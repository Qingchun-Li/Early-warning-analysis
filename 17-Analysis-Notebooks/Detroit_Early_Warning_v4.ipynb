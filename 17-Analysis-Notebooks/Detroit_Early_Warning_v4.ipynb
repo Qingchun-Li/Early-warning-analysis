{
 "cells": [
  {
   "cell_type": "code",
   "execution_count": 1,
   "metadata": {},
   "outputs": [],
   "source": [
    "import pandas as pd\n",
    "import numpy as np\n",
    "import os\n",
    "import matplotlib.pyplot as plt\n",
    "import seaborn as sns\n",
    "from ewstools import core\n",
    "import itertools"
   ]
  },
  {
   "cell_type": "code",
   "execution_count": 2,
   "metadata": {},
   "outputs": [],
   "source": [
    "# set your path\n",
    "path_from = \"/Users/liqingchun/Google Drive/Dissertation/Paper/Journal/Early Warning/Evelyn_results/Covid-Early-Warning/Filtered-Time-Series-Data/Detroit/\"\n",
    "path_written_to = \"/Users/liqingchun/Google Drive/Dissertation/Paper/Journal/Early Warning/Evelyn_results/Covid-Early-Warning/results/Detroit/\""
   ]
  },
  {
   "cell_type": "code",
   "execution_count": 56,
   "metadata": {},
   "outputs": [],
   "source": [
    "cityname = \"Detroit\""
   ]
  },
  {
   "cell_type": "code",
   "execution_count": 90,
   "metadata": {},
   "outputs": [],
   "source": [
    "input_jan = \"detroit-time-series-Jan-new.csv\"\n",
    "input_feb = \"detroit-time-series-Feb-new.csv\"\n",
    "input_mar = \"detroit-time-series-Mar-new.csv\""
   ]
  },
  {
   "cell_type": "code",
   "execution_count": 91,
   "metadata": {},
   "outputs": [],
   "source": [
    "# first case, death, shelter in place\n",
    "\n",
    "first_case = \"Feb. 25th\"\n",
    "first_death = \"Mar. 18th\"\n",
    "shelter = \"Mar. 24th\"\n",
    "\n",
    "# start from zero, since the graph has zero\n",
    "case_num = 31 + 25 + 0 - 1\n",
    "death_num = 31 + 29 + 18 - 1\n",
    "shelter_num = 31 + 29 + 24 - 1"
   ]
  },
  {
   "cell_type": "code",
   "execution_count": 92,
   "metadata": {},
   "outputs": [],
   "source": [
    "# set the starting value, ending value and step for bandwidth and rowing window\n",
    "bw_start = 20\n",
    "bw_end = 90\n",
    "bw_step = 2\n",
    "bw_number = 36\n",
    "\n",
    "rw_start = 0.2\n",
    "rw_end = 0.5\n",
    "rw_step = 0.01\n",
    "rw_number = 31\n",
    "\n",
    "\n",
    "# move forward\n",
    "span = 0.25\n",
    "lags = [1] \n",
    "ews = ['sd','ac'] "
   ]
  },
  {
   "cell_type": "code",
   "execution_count": 93,
   "metadata": {},
   "outputs": [
    {
     "data": {
      "text/plain": [
       "'/Users/liqingchun/Google Drive/Dissertation/Paper/Journal/Early Warning/Evelyn_results/Covid-Early-Warning/Filtered-Time-Series-Data/Detroit'"
      ]
     },
     "execution_count": 93,
     "metadata": {},
     "output_type": "execute_result"
    }
   ],
   "source": [
    "os.chdir(path_from)\n",
    "os.getcwd()"
   ]
  },
  {
   "cell_type": "code",
   "execution_count": 94,
   "metadata": {},
   "outputs": [
    {
     "name": "stdout",
     "output_type": "stream",
     "text": [
      "Index(['Unnamed: 0', 'Date', 'Essential', 'NonEssential'], dtype='object')\n"
     ]
    }
   ],
   "source": [
    "# read\n",
    "df1 = pd.read_csv(input_jan)\n",
    "print(df1.columns)"
   ]
  },
  {
   "cell_type": "code",
   "execution_count": 95,
   "metadata": {},
   "outputs": [],
   "source": [
    "# drop the index column\n",
    "df1 = df1.drop('Unnamed: 0',axis=1)"
   ]
  },
  {
   "cell_type": "code",
   "execution_count": 96,
   "metadata": {},
   "outputs": [
    {
     "data": {
      "text/html": [
       "<div>\n",
       "<style scoped>\n",
       "    .dataframe tbody tr th:only-of-type {\n",
       "        vertical-align: middle;\n",
       "    }\n",
       "\n",
       "    .dataframe tbody tr th {\n",
       "        vertical-align: top;\n",
       "    }\n",
       "\n",
       "    .dataframe thead th {\n",
       "        text-align: right;\n",
       "    }\n",
       "</style>\n",
       "<table border=\"1\" class=\"dataframe\">\n",
       "  <thead>\n",
       "    <tr style=\"text-align: right;\">\n",
       "      <th></th>\n",
       "      <th>Date</th>\n",
       "      <th>Essential</th>\n",
       "      <th>NonEssential</th>\n",
       "    </tr>\n",
       "  </thead>\n",
       "  <tbody>\n",
       "    <tr>\n",
       "      <th>0</th>\n",
       "      <td>2020-01-01</td>\n",
       "      <td>8075</td>\n",
       "      <td>37891</td>\n",
       "    </tr>\n",
       "    <tr>\n",
       "      <th>1</th>\n",
       "      <td>2020-01-02</td>\n",
       "      <td>12205</td>\n",
       "      <td>47091</td>\n",
       "    </tr>\n",
       "    <tr>\n",
       "      <th>2</th>\n",
       "      <td>2020-01-03</td>\n",
       "      <td>13752</td>\n",
       "      <td>52393</td>\n",
       "    </tr>\n",
       "    <tr>\n",
       "      <th>3</th>\n",
       "      <td>2020-01-04</td>\n",
       "      <td>10747</td>\n",
       "      <td>47854</td>\n",
       "    </tr>\n",
       "    <tr>\n",
       "      <th>4</th>\n",
       "      <td>2020-01-05</td>\n",
       "      <td>9116</td>\n",
       "      <td>41380</td>\n",
       "    </tr>\n",
       "    <tr>\n",
       "      <th>5</th>\n",
       "      <td>2020-01-06</td>\n",
       "      <td>13477</td>\n",
       "      <td>52246</td>\n",
       "    </tr>\n",
       "    <tr>\n",
       "      <th>6</th>\n",
       "      <td>2020-01-07</td>\n",
       "      <td>13994</td>\n",
       "      <td>53667</td>\n",
       "    </tr>\n",
       "    <tr>\n",
       "      <th>7</th>\n",
       "      <td>2020-01-08</td>\n",
       "      <td>14223</td>\n",
       "      <td>54081</td>\n",
       "    </tr>\n",
       "    <tr>\n",
       "      <th>8</th>\n",
       "      <td>2020-01-09</td>\n",
       "      <td>15392</td>\n",
       "      <td>57138</td>\n",
       "    </tr>\n",
       "    <tr>\n",
       "      <th>9</th>\n",
       "      <td>2020-01-10</td>\n",
       "      <td>15240</td>\n",
       "      <td>59278</td>\n",
       "    </tr>\n",
       "    <tr>\n",
       "      <th>10</th>\n",
       "      <td>2020-01-11</td>\n",
       "      <td>10812</td>\n",
       "      <td>44609</td>\n",
       "    </tr>\n",
       "    <tr>\n",
       "      <th>11</th>\n",
       "      <td>2020-01-12</td>\n",
       "      <td>9262</td>\n",
       "      <td>39593</td>\n",
       "    </tr>\n",
       "    <tr>\n",
       "      <th>12</th>\n",
       "      <td>2020-01-13</td>\n",
       "      <td>13653</td>\n",
       "      <td>49965</td>\n",
       "    </tr>\n",
       "    <tr>\n",
       "      <th>13</th>\n",
       "      <td>2020-01-14</td>\n",
       "      <td>12200</td>\n",
       "      <td>45980</td>\n",
       "    </tr>\n",
       "    <tr>\n",
       "      <th>14</th>\n",
       "      <td>2020-01-15</td>\n",
       "      <td>15227</td>\n",
       "      <td>55822</td>\n",
       "    </tr>\n",
       "    <tr>\n",
       "      <th>15</th>\n",
       "      <td>2020-01-16</td>\n",
       "      <td>14181</td>\n",
       "      <td>54952</td>\n",
       "    </tr>\n",
       "    <tr>\n",
       "      <th>16</th>\n",
       "      <td>2020-01-17</td>\n",
       "      <td>13138</td>\n",
       "      <td>54776</td>\n",
       "    </tr>\n",
       "    <tr>\n",
       "      <th>17</th>\n",
       "      <td>2020-01-18</td>\n",
       "      <td>9209</td>\n",
       "      <td>41323</td>\n",
       "    </tr>\n",
       "    <tr>\n",
       "      <th>18</th>\n",
       "      <td>2020-01-19</td>\n",
       "      <td>9494</td>\n",
       "      <td>41087</td>\n",
       "    </tr>\n",
       "    <tr>\n",
       "      <th>19</th>\n",
       "      <td>2020-01-20</td>\n",
       "      <td>11174</td>\n",
       "      <td>41543</td>\n",
       "    </tr>\n",
       "    <tr>\n",
       "      <th>20</th>\n",
       "      <td>2020-01-21</td>\n",
       "      <td>12227</td>\n",
       "      <td>46666</td>\n",
       "    </tr>\n",
       "    <tr>\n",
       "      <th>21</th>\n",
       "      <td>2020-01-22</td>\n",
       "      <td>14357</td>\n",
       "      <td>53403</td>\n",
       "    </tr>\n",
       "    <tr>\n",
       "      <th>22</th>\n",
       "      <td>2020-01-23</td>\n",
       "      <td>12432</td>\n",
       "      <td>49674</td>\n",
       "    </tr>\n",
       "    <tr>\n",
       "      <th>23</th>\n",
       "      <td>2020-01-24</td>\n",
       "      <td>14574</td>\n",
       "      <td>55733</td>\n",
       "    </tr>\n",
       "    <tr>\n",
       "      <th>24</th>\n",
       "      <td>2020-01-25</td>\n",
       "      <td>9559</td>\n",
       "      <td>42689</td>\n",
       "    </tr>\n",
       "    <tr>\n",
       "      <th>25</th>\n",
       "      <td>2020-01-26</td>\n",
       "      <td>8921</td>\n",
       "      <td>39077</td>\n",
       "    </tr>\n",
       "    <tr>\n",
       "      <th>26</th>\n",
       "      <td>2020-01-27</td>\n",
       "      <td>14146</td>\n",
       "      <td>51921</td>\n",
       "    </tr>\n",
       "    <tr>\n",
       "      <th>27</th>\n",
       "      <td>2020-01-28</td>\n",
       "      <td>11575</td>\n",
       "      <td>43880</td>\n",
       "    </tr>\n",
       "    <tr>\n",
       "      <th>28</th>\n",
       "      <td>2020-01-29</td>\n",
       "      <td>11815</td>\n",
       "      <td>46250</td>\n",
       "    </tr>\n",
       "    <tr>\n",
       "      <th>29</th>\n",
       "      <td>2020-01-30</td>\n",
       "      <td>12997</td>\n",
       "      <td>50546</td>\n",
       "    </tr>\n",
       "    <tr>\n",
       "      <th>30</th>\n",
       "      <td>2020-01-31</td>\n",
       "      <td>16870</td>\n",
       "      <td>63418</td>\n",
       "    </tr>\n",
       "  </tbody>\n",
       "</table>\n",
       "</div>"
      ],
      "text/plain": [
       "          Date  Essential  NonEssential\n",
       "0   2020-01-01       8075         37891\n",
       "1   2020-01-02      12205         47091\n",
       "2   2020-01-03      13752         52393\n",
       "3   2020-01-04      10747         47854\n",
       "4   2020-01-05       9116         41380\n",
       "5   2020-01-06      13477         52246\n",
       "6   2020-01-07      13994         53667\n",
       "7   2020-01-08      14223         54081\n",
       "8   2020-01-09      15392         57138\n",
       "9   2020-01-10      15240         59278\n",
       "10  2020-01-11      10812         44609\n",
       "11  2020-01-12       9262         39593\n",
       "12  2020-01-13      13653         49965\n",
       "13  2020-01-14      12200         45980\n",
       "14  2020-01-15      15227         55822\n",
       "15  2020-01-16      14181         54952\n",
       "16  2020-01-17      13138         54776\n",
       "17  2020-01-18       9209         41323\n",
       "18  2020-01-19       9494         41087\n",
       "19  2020-01-20      11174         41543\n",
       "20  2020-01-21      12227         46666\n",
       "21  2020-01-22      14357         53403\n",
       "22  2020-01-23      12432         49674\n",
       "23  2020-01-24      14574         55733\n",
       "24  2020-01-25       9559         42689\n",
       "25  2020-01-26       8921         39077\n",
       "26  2020-01-27      14146         51921\n",
       "27  2020-01-28      11575         43880\n",
       "28  2020-01-29      11815         46250\n",
       "29  2020-01-30      12997         50546\n",
       "30  2020-01-31      16870         63418"
      ]
     },
     "execution_count": 96,
     "metadata": {},
     "output_type": "execute_result"
    }
   ],
   "source": [
    "# schema of the data frame\n",
    "df1"
   ]
  },
  {
   "cell_type": "code",
   "execution_count": 97,
   "metadata": {},
   "outputs": [
    {
     "name": "stdout",
     "output_type": "stream",
     "text": [
      "(29, 3)\n",
      "(31, 3)\n"
     ]
    }
   ],
   "source": [
    "df2 = pd.read_csv(input_feb)\n",
    "df2 = df2.drop('Unnamed: 0',axis=1)\n",
    "df3 = pd.read_csv(input_mar)\n",
    "df3 = df3.drop('Unnamed: 0',axis=1)\n",
    "print(df2.shape)\n",
    "print(df3.shape)"
   ]
  },
  {
   "cell_type": "code",
   "execution_count": 98,
   "metadata": {},
   "outputs": [
    {
     "data": {
      "text/html": [
       "<div>\n",
       "<style scoped>\n",
       "    .dataframe tbody tr th:only-of-type {\n",
       "        vertical-align: middle;\n",
       "    }\n",
       "\n",
       "    .dataframe tbody tr th {\n",
       "        vertical-align: top;\n",
       "    }\n",
       "\n",
       "    .dataframe thead th {\n",
       "        text-align: right;\n",
       "    }\n",
       "</style>\n",
       "<table border=\"1\" class=\"dataframe\">\n",
       "  <thead>\n",
       "    <tr style=\"text-align: right;\">\n",
       "      <th></th>\n",
       "      <th>Date</th>\n",
       "      <th>Essential</th>\n",
       "      <th>NonEssential</th>\n",
       "    </tr>\n",
       "  </thead>\n",
       "  <tbody>\n",
       "    <tr>\n",
       "      <th>0</th>\n",
       "      <td>2020-01-01</td>\n",
       "      <td>8075</td>\n",
       "      <td>37891</td>\n",
       "    </tr>\n",
       "    <tr>\n",
       "      <th>1</th>\n",
       "      <td>2020-01-02</td>\n",
       "      <td>12205</td>\n",
       "      <td>47091</td>\n",
       "    </tr>\n",
       "    <tr>\n",
       "      <th>2</th>\n",
       "      <td>2020-01-03</td>\n",
       "      <td>13752</td>\n",
       "      <td>52393</td>\n",
       "    </tr>\n",
       "    <tr>\n",
       "      <th>3</th>\n",
       "      <td>2020-01-04</td>\n",
       "      <td>10747</td>\n",
       "      <td>47854</td>\n",
       "    </tr>\n",
       "    <tr>\n",
       "      <th>4</th>\n",
       "      <td>2020-01-05</td>\n",
       "      <td>9116</td>\n",
       "      <td>41380</td>\n",
       "    </tr>\n",
       "    <tr>\n",
       "      <th>...</th>\n",
       "      <td>...</td>\n",
       "      <td>...</td>\n",
       "      <td>...</td>\n",
       "    </tr>\n",
       "    <tr>\n",
       "      <th>86</th>\n",
       "      <td>2020-03-27</td>\n",
       "      <td>6545</td>\n",
       "      <td>15708</td>\n",
       "    </tr>\n",
       "    <tr>\n",
       "      <th>87</th>\n",
       "      <td>2020-03-28</td>\n",
       "      <td>5565</td>\n",
       "      <td>12935</td>\n",
       "    </tr>\n",
       "    <tr>\n",
       "      <th>88</th>\n",
       "      <td>2020-03-29</td>\n",
       "      <td>8078</td>\n",
       "      <td>28797</td>\n",
       "    </tr>\n",
       "    <tr>\n",
       "      <th>89</th>\n",
       "      <td>2020-03-30</td>\n",
       "      <td>6504</td>\n",
       "      <td>15937</td>\n",
       "    </tr>\n",
       "    <tr>\n",
       "      <th>90</th>\n",
       "      <td>2020-03-31</td>\n",
       "      <td>4894</td>\n",
       "      <td>11214</td>\n",
       "    </tr>\n",
       "  </tbody>\n",
       "</table>\n",
       "<p>91 rows × 3 columns</p>\n",
       "</div>"
      ],
      "text/plain": [
       "          Date  Essential  NonEssential\n",
       "0   2020-01-01       8075         37891\n",
       "1   2020-01-02      12205         47091\n",
       "2   2020-01-03      13752         52393\n",
       "3   2020-01-04      10747         47854\n",
       "4   2020-01-05       9116         41380\n",
       "..         ...        ...           ...\n",
       "86  2020-03-27       6545         15708\n",
       "87  2020-03-28       5565         12935\n",
       "88  2020-03-29       8078         28797\n",
       "89  2020-03-30       6504         15937\n",
       "90  2020-03-31       4894         11214\n",
       "\n",
       "[91 rows x 3 columns]"
      ]
     },
     "execution_count": 98,
     "metadata": {},
     "output_type": "execute_result"
    }
   ],
   "source": [
    "# combine\n",
    "cityWhole = pd.concat([df1,df2,df3],ignore_index=True)\n",
    "cityWhole"
   ]
  },
  {
   "cell_type": "code",
   "execution_count": 138,
   "metadata": {},
   "outputs": [
    {
     "name": "stdout",
     "output_type": "stream",
     "text": [
      "[ 0.11788663 -0.07280331]\n",
      "[0.41889654 0.62915499]\n"
     ]
    }
   ],
   "source": [
    "baseline = cityWhole.loc[16:36,:].set_index('Date').loc[:,'Essential':'NonEssential']\n",
    "temp_avr = baseline.values.reshape(-1,7,2).mean(axis=1)\n",
    "\n",
    "temp_avr = temp_avr.mean(axis=0)\n",
    "\n",
    "#temp_avr\n",
    "\n",
    "perc_change = cityWhole.loc[37:85,:].set_index('Date').loc[:,'Essential':'NonEssential']\n",
    "perc_change_mean = perc_change.values.reshape(-1,7,2).mean(axis=1)\n",
    "\n",
    "#perc_change_mean\n",
    "\n",
    "temp_result = (temp_avr - perc_change_mean)/temp_avr\n",
    "\n",
    "#temp_result\n",
    "\n",
    "print(temp_result[3])\n",
    "print(temp_result[-1])"
   ]
  },
  {
   "cell_type": "code",
   "execution_count": 99,
   "metadata": {},
   "outputs": [
    {
     "name": "stdout",
     "output_type": "stream",
     "text": [
      "91\n"
     ]
    },
    {
     "data": {
      "text/plain": [
       "RangeIndex(start=0, stop=91, step=1)"
      ]
     },
     "execution_count": 99,
     "metadata": {},
     "output_type": "execute_result"
    }
   ],
   "source": [
    "total_days = len(cityWhole)\n",
    "print(total_days)\n",
    "cityWhole.index"
   ]
  },
  {
   "cell_type": "code",
   "execution_count": 100,
   "metadata": {},
   "outputs": [],
   "source": [
    "# create two list of possible rowing-window values and band-width values, put them into list to feed into itertools functions\n",
    "rw = list(np.linspace(rw_start,rw_end,rw_number, endpoint=True))\n",
    "bw = list(np.linspace(bw_start,bw_end,bw_number, endpoint=True))\n",
    "list1 = [rw,bw]"
   ]
  },
  {
   "cell_type": "code",
   "execution_count": 101,
   "metadata": {},
   "outputs": [
    {
     "data": {
      "text/plain": [
       "[20.0,\n",
       " 22.0,\n",
       " 24.0,\n",
       " 26.0,\n",
       " 28.0,\n",
       " 30.0,\n",
       " 32.0,\n",
       " 34.0,\n",
       " 36.0,\n",
       " 38.0,\n",
       " 40.0,\n",
       " 42.0,\n",
       " 44.0,\n",
       " 46.0,\n",
       " 48.0,\n",
       " 50.0,\n",
       " 52.0,\n",
       " 54.0,\n",
       " 56.0,\n",
       " 58.0,\n",
       " 60.0,\n",
       " 62.0,\n",
       " 64.0,\n",
       " 66.0,\n",
       " 68.0,\n",
       " 70.0,\n",
       " 72.0,\n",
       " 74.0,\n",
       " 76.0,\n",
       " 78.0,\n",
       " 80.0,\n",
       " 82.0,\n",
       " 84.0,\n",
       " 86.0,\n",
       " 88.0,\n",
       " 90.0]"
      ]
     },
     "execution_count": 101,
     "metadata": {},
     "output_type": "execute_result"
    }
   ],
   "source": [
    "bw"
   ]
  },
  {
   "cell_type": "code",
   "execution_count": 102,
   "metadata": {},
   "outputs": [],
   "source": [
    "# generate a list of tuples that contains (rowing-window-value,bandwidth-value) pairs\n",
    "prod = itertools.product(*list1)\n",
    "TupList = []\n",
    "for i in prod:\n",
    "    TupList.append(i)"
   ]
  },
  {
   "cell_type": "code",
   "execution_count": 103,
   "metadata": {},
   "outputs": [
    {
     "data": {
      "text/plain": [
       "(0.2, 20.0)"
      ]
     },
     "execution_count": 103,
     "metadata": {},
     "output_type": "execute_result"
    }
   ],
   "source": [
    "TupList[0]"
   ]
  },
  {
   "cell_type": "code",
   "execution_count": 104,
   "metadata": {},
   "outputs": [],
   "source": [
    "# create 2 new lists to store all values of std and all values of lag-1AC\n",
    "storage_std = np.array([])\n",
    "storage_lag = np.array([])"
   ]
  },
  {
   "cell_type": "code",
   "execution_count": 105,
   "metadata": {},
   "outputs": [],
   "source": [
    "# for each (rowing-window,bandwidth) pair, compute the ews dataframe, store the corresponding kendall tau value of std into storage_std, and store the corresponding kendall tau value of lag into storage_lag\n",
    "for i in range(len(TupList)):\n",
    "    ews_dic = core.ews_compute(cityWhole[\"Essential\"], roll_window = TupList[i][0],smooth ='Gaussian',band_width= TupList[i][1],span = span,lag_times = [1], ews = ews,upto = 'Full')\n",
    "    if i != 0: # exclude the first item since they are NoneType objects and this will make the entire array to be type \"object\" if include them\n",
    "        storage_std = np.append(storage_std,ews_dic['Kendall tau'][\"Standard deviation\"][0]) # pandas series with 1 element, so index 0\n",
    "        storage_lag = np.append(storage_lag, ews_dic['Kendall tau'][\"Lag-1 AC\"][0]) # pandas series with 1 element, so index 0"
   ]
  },
  {
   "cell_type": "code",
   "execution_count": 106,
   "metadata": {},
   "outputs": [
    {
     "name": "stdout",
     "output_type": "stream",
     "text": [
      "-0.24514338575393155\n",
      "0.6107744107744109\n"
     ]
    }
   ],
   "source": [
    "# print out the max kendall tau for std and lagAC for comparison\n",
    "max_std = np.amax(storage_std)\n",
    "max_lag = np.amax(storage_lag)\n",
    "print(max_std)\n",
    "print(max_lag)"
   ]
  },
  {
   "cell_type": "code",
   "execution_count": 107,
   "metadata": {},
   "outputs": [
    {
     "name": "stdout",
     "output_type": "stream",
     "text": [
      "1116\n",
      "1115\n",
      "1115\n"
     ]
    }
   ],
   "source": [
    "print(len(TupList))\n",
    "print(len(storage_std))\n",
    "print(len(storage_lag))"
   ]
  },
  {
   "cell_type": "markdown",
   "metadata": {},
   "source": [
    "##### Add one when locating the tuple in TupList since the first item is \"None Type\" in tupList and we did not store that in storage_std and storage_lag"
   ]
  },
  {
   "cell_type": "code",
   "execution_count": 108,
   "metadata": {},
   "outputs": [
    {
     "name": "stdout",
     "output_type": "stream",
     "text": [
      "*** max std located in pair ***\n",
      "index at : [1115]in TupList\n",
      "tuple (rowing-windows,bandwidth): (0.5, 90.0)\n",
      "largest std kendall tau: -0.24514338575393155\n"
     ]
    }
   ],
   "source": [
    "# find the location/index of maximum std in the storage_std, and use the index to find the corresponding rowing-window and bandwidth\n",
    "print(\"*** max std located in pair ***\")\n",
    "max_std_index = np.where(storage_std == max_std)\n",
    "print(\"index at : \" + str(max_std_index[0]+1) + \"in TupList\")\n",
    "# store the tuple for comparison\n",
    "target_pair_std = TupList[max_std_index[0][0]+1]\n",
    "print(\"tuple (rowing-windows,bandwidth): \" + str(target_pair_std))\n",
    "print(\"largest std kendall tau: \" + str(max_std))"
   ]
  },
  {
   "cell_type": "code",
   "execution_count": 109,
   "metadata": {},
   "outputs": [
    {
     "name": "stdout",
     "output_type": "stream",
     "text": [
      "*** max lag located in pair ***\n",
      "index at : [791]in TupList\n",
      "tuple (rowing-windows,bandwidth): (0.41000000000000003, 90.0)\n",
      "largest lag kendall tau: 0.6107744107744109\n"
     ]
    }
   ],
   "source": [
    "# some mechanism to find the index of maximum lagAC and the corresponding tuple\n",
    "print(\"*** max lag located in pair ***\")\n",
    "max_lag_index = np.where(storage_lag == max_lag)\n",
    "print(\"index at : \" + str(max_lag_index[0]+1) + \"in TupList\")\n",
    "# store the tuple for comparison\n",
    "target_pair_lag = TupList[max_lag_index[0][0]+1]\n",
    "print(\"tuple (rowing-windows,bandwidth): \" + str(target_pair_lag))\n",
    "print(\"largest lag kendall tau: \" + str(max_lag))"
   ]
  },
  {
   "cell_type": "code",
   "execution_count": 110,
   "metadata": {},
   "outputs": [
    {
     "name": "stdout",
     "output_type": "stream",
     "text": [
      "lagAC larger, select (0.41000000000000003, 90.0)\n"
     ]
    }
   ],
   "source": [
    "# create an empty tuple, the tuple that contains larger Kendall Tau value will be selected\n",
    "# select either AC max tuple or Standard Deviation max tuple automatically\n",
    "selected_pair = ()\n",
    "if (max_lag > max_std):\n",
    "    selected_pair = target_pair_lag\n",
    "    print(\"lagAC larger, select \" + str(target_pair_lag))\n",
    "elif(max_lag < max_std):\n",
    "    selected_pair = target_pair_std\n",
    "    print(\"std larger, select \" + str(target_pair_std))\n",
    "else:\n",
    "    print(\"rare case!\")\n",
    "    selected_pair = target_pair_std"
   ]
  },
  {
   "cell_type": "code",
   "execution_count": 111,
   "metadata": {},
   "outputs": [
    {
     "name": "stdout",
     "output_type": "stream",
     "text": [
      "setRW : 0.5\n",
      "setBW : 90.0\n"
     ]
    }
   ],
   "source": [
    "# double check, print out\n",
    "#setRW = selected_pair[0]\n",
    "#setBW = selected_pair[1]\n",
    "setRW = target_pair_std[0]\n",
    "setBW = target_pair_std[1]\n",
    "print(\"setRW : \" + str(setRW))\n",
    "print(\"setBW : \" + str(setBW))\n",
    "\n",
    "ews_dic_std = core.ews_compute(cityWhole[\"Essential\"], \n",
    "                          roll_window = setRW,\n",
    "                           smooth ='Gaussian',\n",
    "                           band_width= setBW,\n",
    "                          span = span,\n",
    "                          lag_times = [1], \n",
    "                          ews = ews,\n",
    "                          upto = 'Full')"
   ]
  },
  {
   "cell_type": "code",
   "execution_count": 112,
   "metadata": {},
   "outputs": [
    {
     "name": "stdout",
     "output_type": "stream",
     "text": [
      "setRW : 0.41000000000000003\n",
      "setBW : 90.0\n"
     ]
    }
   ],
   "source": [
    "# double check, print out\n",
    "#setRW = selected_pair[0]\n",
    "#setBW = selected_pair[1]\n",
    "setRW = target_pair_lag[0]\n",
    "setBW = target_pair_lag[1]\n",
    "print(\"setRW : \" + str(setRW))\n",
    "print(\"setBW : \" + str(setBW))\n",
    "\n",
    "ews_dic_lag = core.ews_compute(cityWhole[\"Essential\"], \n",
    "                          roll_window = setRW,\n",
    "                           smooth ='Gaussian',\n",
    "                           band_width= setBW,\n",
    "                          span = span,\n",
    "                          lag_times = [1], \n",
    "                          ews = ews,\n",
    "                          upto = 'Full')"
   ]
  },
  {
   "cell_type": "code",
   "execution_count": 113,
   "metadata": {},
   "outputs": [
    {
     "name": "stdout",
     "output_type": "stream",
     "text": [
      "setRW : 0.41000000000000003\n",
      "setBW : 90.0\n"
     ]
    }
   ],
   "source": [
    "# double check, print out\n",
    "setRW = selected_pair[0]\n",
    "setBW = selected_pair[1]\n",
    "print(\"setRW : \" + str(setRW))\n",
    "print(\"setBW : \" + str(setBW))\n",
    "\n",
    "ews_dic = core.ews_compute(cityWhole[\"Essential\"], \n",
    "                          roll_window = setRW,\n",
    "                           smooth ='Gaussian',\n",
    "                           band_width= setBW,\n",
    "                          span = span,\n",
    "                          lag_times = [1], \n",
    "                          ews = ews,\n",
    "                          upto = 'Full')"
   ]
  },
  {
   "cell_type": "code",
   "execution_count": 114,
   "metadata": {},
   "outputs": [],
   "source": [
    "# dfs\n",
    "df_ews_std = ews_dic_std['EWS metrics']\n",
    "df_ktau_std = ews_dic_std['Kendall tau']\n",
    "\n",
    "df_ews_lag = ews_dic_lag['EWS metrics']\n",
    "df_ktau_lag = ews_dic_lag['Kendall tau']\n",
    "\n",
    "df_ews = ews_dic['EWS metrics']"
   ]
  },
  {
   "cell_type": "code",
   "execution_count": 115,
   "metadata": {},
   "outputs": [],
   "source": [
    "# different cities needs adjustment of the location of annotation since total number varies\n",
    "# set to mean, so location set automatically\n",
    "\n",
    "# location of annotation for the 1st graph\n",
    "annotation_location_1 = np.mean(df_ews[[\"State variable\"]])\n",
    "annotation_location_2 = np.mean(df_ews[[\"Residuals\"]])\n",
    "# location of annotations for the 2nd graph\n",
    "annotation_location_3 = np.mean(df_ews_std[\"Standard deviation\"])\n",
    "# location of annotations for the 3rd graph\n",
    "annotation_location_4 = np.mean(df_ews_lag[\"Lag-1 AC\"])"
   ]
  },
  {
   "cell_type": "code",
   "execution_count": 116,
   "metadata": {},
   "outputs": [],
   "source": [
    "# 2 parameter: you may want to change these two\n",
    "LegendTF = False\n",
    "generateNow = True\n",
    "\n",
    "# set the early warning (gray)band using the variables below \n",
    "\n",
    "# Action Required: the start and the end of band in first graph\n",
    "bar_start_1 = 55 # need modification\n",
    "bar_end_1 = 57 # need modification\n",
    "\n",
    "\n",
    "# Action Required: the start and the end of band in 2nd graph\n",
    "bar_start_2 = 78 # need modification\n",
    "bar_end_2 = 80 # need modification\n",
    "\n",
    "\n",
    "# Action Required: the start and the end of band in 3rd graph\n",
    "bar_start_3 = 60 # need modification\n",
    "bar_end_3 = 62 # need modification"
   ]
  },
  {
   "cell_type": "code",
   "execution_count": 117,
   "metadata": {},
   "outputs": [
    {
     "data": {
      "text/plain": [
       "Date            2020-03-01\n",
       "Essential             9348\n",
       "NonEssential         41972\n",
       "Name: 60, dtype: object"
      ]
     },
     "execution_count": 117,
     "metadata": {},
     "output_type": "execute_result"
    }
   ],
   "source": [
    "cityWhole.loc[60]"
   ]
  },
  {
   "cell_type": "code",
   "execution_count": 118,
   "metadata": {},
   "outputs": [
    {
     "data": {
      "image/png": "[encoded data removed]",
      "text/plain": [
       "<Figure size 560x400 with 3 Axes>"
      ]
     },
     "metadata": {},
     "output_type": "display_data"
    }
   ],
   "source": [
    "# the dates and string of first case, first death , shelter in place order are set at the beginning in the notebook\n",
    "# parameter needs to be set are in the previous cell\n",
    "\n",
    "\n",
    "# constant, you don't need to change them, but if you want to you can change ALPHA OR DIST \n",
    "ALPHA = 0.3\n",
    "DIST = 5\n",
    "ZERO = 0\n",
    "NROWS = 3\n",
    "NCOLS = 1\n",
    "windown_position_std = int(target_pair_std[0]*total_days-1)\n",
    "windown_position_lag = int(target_pair_lag[0]*total_days-1)\n",
    "# title = (\"Essential Early warning signals for city \" + cityname)\n",
    "# No action require below\n",
    "plt.style.use('classic')\n",
    "fig1, axes = plt.subplots(nrows = NROWS, ncols = NCOLS, figsize=(7,5), sharex=True)\n",
    "df_ews[['State variable']].plot(ax=axes[0], \n",
    "        color='black', xlim = (-DIST,total_days + DIST),legend = LegendTF,\n",
    "        marker='o', markersize=3) # frame auto set\n",
    "df_ews[['Smoothing']].plot(ax=axes[0], color='red', xlim = (-DIST,total_days + DIST),legend = LegendTF)\n",
    "df_ews[['Residuals']].plot(ax=axes[0], color='blue', xlim = (-DIST,total_days + DIST),legend = LegendTF,\n",
    "                            marker='o', markersize=3, linestyle='dashed') # frame auto set\n",
    "#axes[0].axvline(x = case_num, color='red', label='First case')\n",
    "#axes[0].axvline(x = death_num, color='yellow')\n",
    "#axes[0].axvline(x = shelter_num, color='yellow', label='Shelter in place')\n",
    "#axes[0].annotate('First Case' +'\\n'+ first_case, xy=((case_num + DIST), annotation_location_2)) # location auto set\n",
    "#axes[0].annotate('First Death'+'\\n'+ first_death, xy=((death_num - DIST), annotation_location_2)) # location auto set\n",
    "#axes[0].annotate('Shelter in Place'+'\\n'+ shelter, xy=((shelter_num + DIST), annotation_location_1)) # location auto set\n",
    "#axes[0].axvspan(bar_start_1, bar_end_1, alpha=ALPHA, color='gray')\n",
    "#axes[0].legend(loc=3, ncol=3)\n",
    "axes[0].set_ylabel('Visits', fontsize=14)\n",
    "axes[0].ticklabel_format(axis='y', style='sci', scilimits=(0,0))\n",
    "#axes[0].annotate('(a)', xy=(1 - DIST, 0.8*np.max(df_ews[[\"State variable\"]])))\n",
    "\n",
    "\n",
    "\n",
    "\n",
    "df_ews_std['Standard deviation'].plot(ax=axes[1],legend=False, xlim = (-DIST,total_days+DIST),\n",
    "                                      color=\"black\", marker='o', markersize=3, ls='--', markerfacecolor='none') # frame auto set\n",
    "axes[1].axvline(x = case_num, color='red')\n",
    "#axes[1].axvline(x = death_num, color='purple')\n",
    "axes[1].axvline(x = shelter_num, color='blue')\n",
    "axes[1].annotate(\"Kendall tau:\" + str(round(df_ktau_std[\"Standard deviation\"][0],4)), xy=(ZERO, 0.85*annotation_location_3)) # location auto set\n",
    "#axes[1].annotate('First Case' +'\\n'+ first_case, xy=((case_num + DIST), annotation_location_3)) # location auto set\n",
    "#axes[1].annotate('First Death'+'\\n'+ first_death, xy=((death_num - DIST), annotation_location_3)) # location auto set\n",
    "#axes[1].annotate('Shelter in Place'+'\\n'+ shelter, xy=((shelter_num + DIST), annotation_location_3)) # location auto set\n",
    "axes[1].axvspan(bar_start_2, bar_end_2, alpha = ALPHA, color='gray', label='Early Warning Period')\n",
    "axes[1].axvline(x = windown_position_std, color='black', ls='--')\n",
    "axes[1].annotate(\"\", xy=(0, 1.05*annotation_location_3), xytext=(windown_position_std, 1.05*annotation_location_3),\n",
    "    arrowprops=dict(arrowstyle=\"<|-|>\", connectionstyle=\"arc3\", ls='--',color='black'))\n",
    "axes[1].text(windown_position_std*0.5, 1.05*annotation_location_3, 'Window size',\n",
    "            {'color': 'black', 'ha': 'center', 'va': 'bottom'})\n",
    "#axes[1].legend(loc=2, ncol=1)\n",
    "axes[1].set_ylabel('Std', fontsize=14)\n",
    "#axes[1].annotate('(b)', xy=(1 - DIST, 0.95*np.max(df_ews_std[[\"Standard deviation\"]])))\n",
    "\n",
    "\n",
    "\n",
    "\n",
    "\n",
    "df_ews_lag[['Lag-1 AC']].plot(ax=axes[2],legend=False, xlim = (-DIST,total_days+DIST),\n",
    "                             color=\"black\", marker='s', markersize=3, ls='--', markerfacecolor='none') # frame auto set\n",
    "axes[2].axvline(x = case_num, color='red')\n",
    "#axes[2].axvline(x = death_num, color='purple')\n",
    "axes[2].axvline(x = shelter_num, color='blue')\n",
    "axes[2].annotate(\"Kendall tau: \" + str(round(df_ktau_lag[\"Lag-1 AC\"][0],4)),xy=(ZERO, annotation_location_4*0.3)) # location auto set\n",
    "\n",
    "#axes[2].annotate('First Case' +'\\n'+ first_case, xy=((case_num + DIST), annotation_location_4)) # location auto set\n",
    "#axes[2].annotate('First Death'+'\\n'+ first_death, xy=((death_num - DIST), annotation_location_4)) # location auto set\n",
    "#axes[2].annotate('Shelter in Place'+'\\n'+ shelter, xy=((shelter_num + DIST), annotation_location_4)) # location auto set\n",
    "axes[2].axvspan(bar_start_3, bar_end_3, alpha = ALPHA, color='gray', label='Early Warning Period') \n",
    "axes[2].axvline(x = windown_position_lag, color='black', ls='--')\n",
    "axes[2].annotate(\"\", xy=(0, 1.05*annotation_location_4), xytext=(windown_position_lag, 1.05*annotation_location_4),\n",
    "    arrowprops=dict(arrowstyle=\"<|-|>\", connectionstyle=\"arc3\", ls='--', color='black'))\n",
    "axes[2].text(windown_position_lag*0.5, 1.05*annotation_location_4, 'Window size',\n",
    "            {'color': 'black', 'ha': 'center', 'va': 'bottom'})\n",
    "#axes[2].legend(loc=2)\n",
    "axes[2].set_ylabel('AC(1)')\n",
    "#axes[2].annotate('(c)', xy=(1-DIST, 0.9*np.max(df_ews_lag[[\"Lag-1 AC\"]])))\n",
    "x_tick = [1, 'Jan-1', 'Jan-21', 'Feb-10', 'Mar-1', 'Mar-21']\n",
    "axes[2].set_xticklabels(x_tick)\n",
    "\n",
    "foo_fig = plt.gcf()\n",
    "\n",
    "# set \"generateNow\" in previous cell\n",
    "if (generateNow):\n",
    "    os.chdir(path_written_to)\n",
    "    foo_fig.savefig((cityname + \"-Essential-new.png\"))"
   ]
  },
  {
   "cell_type": "code",
   "execution_count": 119,
   "metadata": {},
   "outputs": [
    {
     "data": {
      "image/png": "[encoded data removed]",
      "text/plain": [
       "<Figure size 360x400 with 2 Axes>"
      ]
     },
     "metadata": {},
     "output_type": "display_data"
    }
   ],
   "source": [
    "fig, ax = plt.subplots(figsize=(4.5,5))\n",
    "#fig = plt.figure(figsize=(10,8))\n",
    "plt.style.use('classic')\n",
    "\n",
    "#z = list(storage_lag)\n",
    "#z.insert(0, np.min(storage_lag))\n",
    "#ax.contour(bw, rw, np.array(z).reshape(30, 38), cmap=\"RdBu_r\")\n",
    "\n",
    "window, bandwith = zip(*TupList)\n",
    "x = window[1:]\n",
    "y = bandwith[1:]\n",
    "if np.max(storage_std)>np.max(storage_lag):\n",
    "    z = storage_std\n",
    "else:\n",
    "    z= storage_lag\n",
    "ax.tricontour(x, y, z, levels=14, linewidths=0.5, colors='k')\n",
    "cntr = ax.tricontourf(x, y, z, levels=14, cmap=\"RdBu_r\")\n",
    "fig.colorbar(cntr, ax=ax)\n",
    "ax.set(xlim=(0.2, 0.5), ylim=(20, 90))\n",
    "ax.set_ylabel('Smoothing bandwith', fontsize=12)\n",
    "ax.set_xlabel('Rolling Window Size', fontsize=12)\n",
    "\n",
    "foo_fig = plt.gcf()  # 'get current figure'\n",
    "# set \"generateNow\" in previous cell\n",
    "if (generateNow):\n",
    "    os.chdir(path_written_to)\n",
    "    foo_fig.savefig((cityname + \"-Essential_contour-new.png\"))"
   ]
  },
  {
   "cell_type": "code",
   "execution_count": 120,
   "metadata": {},
   "outputs": [
    {
     "data": {
      "image/png": "[encoded data removed]",
      "text/plain": [
       "<Figure size 240x400 with 1 Axes>"
      ]
     },
     "metadata": {},
     "output_type": "display_data"
    }
   ],
   "source": [
    "plt.style.use('classic')\n",
    "fig = plt.figure(figsize=(3,5))\n",
    "\n",
    "#z = list(storage_lag)\n",
    "#z.insert(0, np.min(storage_lag))\n",
    "#ax.contour(bw, rw, np.array(z).reshape(30, 38), cmap=\"RdBu_r\")\n",
    "\n",
    "if np.max(storage_std)>np.max(storage_lag):\n",
    "    a = storage_std\n",
    "    label = 'Std'\n",
    "else:\n",
    "    a= storage_lag\n",
    "    label = 'AC(1)'\n",
    "\n",
    "hist,bins = np.histogram(a,bins=40)\n",
    "\n",
    "plt.hist(a, bins = bins, color='grey')\n",
    "\n",
    "plt.xlabel('Kendall tau (' + label + ')')\n",
    "\n",
    "\n",
    "foo_fig = plt.gcf()  # 'get current figure'\n",
    "# set \"generateNow\" in previous cell\n",
    "if (generateNow):\n",
    "    os.chdir(path_written_to)\n",
    "    foo_fig.savefig((cityname + \"-Essential_histogram.png\"))"
   ]
  },
  {
   "cell_type": "markdown",
   "metadata": {},
   "source": [
    "## Here starts Non-essential"
   ]
  },
  {
   "cell_type": "code",
   "execution_count": 121,
   "metadata": {},
   "outputs": [
    {
     "name": "stdout",
     "output_type": "stream",
     "text": [
      "should print out two empty brakets below\n",
      "[]\n",
      "[]\n"
     ]
    }
   ],
   "source": [
    "# reset storage\n",
    "storage_std = np.array([])\n",
    "storage_lag = np.array([])\n",
    "print(\"should print out two empty brakets below\")\n",
    "print(storage_std)\n",
    "print(storage_lag)\n",
    "\n",
    "for i in range(len(TupList)):\n",
    "    ews_dic = core.ews_compute(cityWhole[\"NonEssential\"], roll_window = TupList[i][0],smooth ='Gaussian',band_width= TupList[i][1],span = span,lag_times = [1], ews = ews,upto = 'Full')\n",
    "    if i != 0:\n",
    "        storage_std = np.append( storage_std,ews_dic['Kendall tau'][\"Standard deviation\"][0])\n",
    "        storage_lag = np.append(storage_lag, ews_dic['Kendall tau'][\"Lag-1 AC\"][0])"
   ]
  },
  {
   "cell_type": "markdown",
   "metadata": {},
   "source": [
    "### I know they can be overriden, but just in case we reset all variables"
   ]
  },
  {
   "cell_type": "code",
   "execution_count": 122,
   "metadata": {},
   "outputs": [
    {
     "name": "stdout",
     "output_type": "stream",
     "text": [
      "0.9037927844588345\n",
      "0.8482886216466237\n"
     ]
    }
   ],
   "source": [
    "max_std = -100000000\n",
    "max_lag = -100000000\n",
    "max_std = np.amax(storage_std)\n",
    "max_lag = np.amax(storage_lag)\n",
    "print(max_std)\n",
    "print(max_lag)"
   ]
  },
  {
   "cell_type": "code",
   "execution_count": 123,
   "metadata": {},
   "outputs": [
    {
     "name": "stdout",
     "output_type": "stream",
     "text": [
      "1116\n",
      "1115\n",
      "1115\n"
     ]
    }
   ],
   "source": [
    "print(len(TupList))\n",
    "print(len(storage_std))\n",
    "print(len(storage_lag))"
   ]
  },
  {
   "cell_type": "markdown",
   "metadata": {},
   "source": [
    "PLUS 1 SINCE LENGTH IS DIFFERENT"
   ]
  },
  {
   "cell_type": "code",
   "execution_count": 124,
   "metadata": {},
   "outputs": [
    {
     "name": "stdout",
     "output_type": "stream",
     "text": [
      "*** max std located in pair ***\n",
      "index at : [1111 1112 1113 1114 1115]\n",
      "tuple (rowing-windows,bandwidth): (0.5, 82.0)\n",
      "largest std kendall tau: 0.9037927844588345\n"
     ]
    }
   ],
   "source": [
    "# reset\n",
    "max_std_index = -10000000\n",
    "target_pair_std = (-10000000,-100000000)\n",
    "# compute\n",
    "print(\"*** max std located in pair ***\")\n",
    "max_std_index = np.where(storage_std == max_std) # find the largest element index\n",
    "print(\"index at : \" + str(max_std_index[0] + 1))\n",
    "target_pair_std = TupList[max_std_index[0][0] + 1]\n",
    "print(\"tuple (rowing-windows,bandwidth): \" + str(target_pair_std))\n",
    "print(\"largest std kendall tau: \" + str(max_std))"
   ]
  },
  {
   "cell_type": "code",
   "execution_count": 125,
   "metadata": {},
   "outputs": [
    {
     "name": "stdout",
     "output_type": "stream",
     "text": [
      "*** max lag located in pair ***\n",
      "index at : [1080]\n",
      "tuple (rowing-windows,bandwidth): (0.5, 20.0)\n",
      "largest lag kendall tau: 0.8482886216466237\n"
     ]
    }
   ],
   "source": [
    "# reset\n",
    "max_lag_index = -1000000000\n",
    "target_pair_lag = (-1000000000,-1000000000)\n",
    "# compute\n",
    "print(\"*** max lag located in pair ***\")\n",
    "max_lag_index = np.where(storage_lag == max_lag)\n",
    "print(\"index at : \" + str(max_lag_index[0] + 1)) # set to the index zero when multiple results return because we try to have smaller rowing window\n",
    "target_pair_lag = TupList[max_lag_index[0][0] + 1]\n",
    "print(\"tuple (rowing-windows,bandwidth): \" + str(target_pair_lag))\n",
    "print(\"largest lag kendall tau: \" + str(max_lag))"
   ]
  },
  {
   "cell_type": "code",
   "execution_count": 126,
   "metadata": {},
   "outputs": [
    {
     "name": "stdout",
     "output_type": "stream",
     "text": [
      "std larger, select (0.5, 82.0)\n"
     ]
    }
   ],
   "source": [
    "selected_pair = ()\n",
    "if (max_lag > max_std):\n",
    "    selected_pair = target_pair_lag\n",
    "    print(\"lagAC larger, select \" + str(target_pair_lag))\n",
    "elif(max_lag < max_std):\n",
    "    selected_pair = target_pair_std\n",
    "    print(\"std larger, select \" + str(target_pair_std))\n",
    "else:\n",
    "    print(\"rare case!\")\n",
    "    selected_pair = target_pair_lag"
   ]
  },
  {
   "cell_type": "code",
   "execution_count": 127,
   "metadata": {},
   "outputs": [
    {
     "name": "stdout",
     "output_type": "stream",
     "text": [
      "setRW : 0.5\n",
      "setBW : 82.0\n"
     ]
    }
   ],
   "source": [
    "setRW = -10000000\n",
    "setBW = -10000000\n",
    "setRW = round(selected_pair[0],3)\n",
    "setBW = selected_pair[1]\n",
    "print(\"setRW : \" + str(setRW))\n",
    "print(\"setBW : \" + str(setBW))"
   ]
  },
  {
   "cell_type": "code",
   "execution_count": 128,
   "metadata": {},
   "outputs": [],
   "source": [
    "ews_dic = core.ews_compute(cityWhole[\"NonEssential\"], \n",
    "                          roll_window = setRW,\n",
    "                           smooth ='Gaussian',\n",
    "                           band_width=setBW,\n",
    "                          span = span,\n",
    "                          lag_times = [1], \n",
    "                          ews = ews,\n",
    "                          upto = 'Full')"
   ]
  },
  {
   "cell_type": "code",
   "execution_count": 129,
   "metadata": {},
   "outputs": [
    {
     "name": "stdout",
     "output_type": "stream",
     "text": [
      "setRW : 0.5\n",
      "setBW : 82.0\n"
     ]
    }
   ],
   "source": [
    "setRW = target_pair_std[0]\n",
    "setBW = target_pair_std[1]\n",
    "print(\"setRW : \" + str(setRW))\n",
    "print(\"setBW : \" + str(setBW))\n",
    "\n",
    "ews_dic_std = core.ews_compute(cityWhole[\"NonEssential\"], \n",
    "                          roll_window = setRW,\n",
    "                           smooth ='Gaussian',\n",
    "                           band_width= setBW,\n",
    "                          span = span,\n",
    "                          lag_times = [1], \n",
    "                          ews = ews,\n",
    "                          upto = 'Full')"
   ]
  },
  {
   "cell_type": "code",
   "execution_count": 130,
   "metadata": {},
   "outputs": [
    {
     "name": "stdout",
     "output_type": "stream",
     "text": [
      "setRW : 0.5\n",
      "setBW : 20.0\n"
     ]
    }
   ],
   "source": [
    "setRW = target_pair_lag[0]\n",
    "setBW = target_pair_lag[1]\n",
    "print(\"setRW : \" + str(setRW))\n",
    "print(\"setBW : \" + str(setBW))\n",
    "\n",
    "ews_dic_lag = core.ews_compute(cityWhole[\"NonEssential\"], \n",
    "                          roll_window = setRW,\n",
    "                           smooth ='Gaussian',\n",
    "                           band_width= setBW,\n",
    "                          span = span,\n",
    "                          lag_times = [1], \n",
    "                          ews = ews,\n",
    "                          upto = 'Full')"
   ]
  },
  {
   "cell_type": "code",
   "execution_count": 131,
   "metadata": {},
   "outputs": [],
   "source": [
    "# dfs\n",
    "df_ews_std = ews_dic_std['EWS metrics']\n",
    "df_ktau_std = ews_dic_std['Kendall tau']\n",
    "\n",
    "df_ews_lag = ews_dic_lag['EWS metrics']\n",
    "df_ktau_lag = ews_dic_lag['Kendall tau']\n",
    "\n",
    "df_ews = ews_dic['EWS metrics']"
   ]
  },
  {
   "cell_type": "code",
   "execution_count": 132,
   "metadata": {},
   "outputs": [],
   "source": [
    "#  reset\n",
    "annotation_location_1 = -10000000\n",
    "annotation_location_2 = -10000000\n",
    "annotation_location_3 = -10000000\n",
    "annotation_location_4 = -10000000\n",
    "\n",
    "# location of annotation for the 1st graph\n",
    "annotation_location_1 = np.mean(df_ews[[\"State variable\"]])\n",
    "annotation_location_2 = np.mean(df_ews[[\"Residuals\"]])\n",
    "# location of annotations for the 2nd graph\n",
    "annotation_location_3 = np.mean(df_ews_std[\"Standard deviation\"])\n",
    "# location of annotations for the 3rd graph\n",
    "annotation_location_4 = np.mean(df_ews_lag[\"Lag-1 AC\"])"
   ]
  },
  {
   "cell_type": "code",
   "execution_count": 133,
   "metadata": {},
   "outputs": [],
   "source": [
    "# 2 parameter: you may want to change these two\n",
    "LegendTF = False\n",
    "generateNow = True\n",
    "\n",
    "# set the early warning (gray)band using the variables below \n",
    "\n",
    "# Action Required: the start and the end of band in first graph\n",
    "bar_start_1 = 63 # need modification\n",
    "bar_end_1 = 65 # need modification\n",
    "\n",
    "\n",
    "# Action Required: the start and the end of band in 2nd graph\n",
    "bar_start_2 = 71 # need modification\n",
    "bar_end_2 = 73 # need modification\n",
    "\n",
    "\n",
    "# Action Required: the start and the end of band in 3rd graph\n",
    "bar_start_3 = 63 # need modification\n",
    "bar_end_3 = 65 # need modification"
   ]
  },
  {
   "cell_type": "code",
   "execution_count": 134,
   "metadata": {},
   "outputs": [
    {
     "data": {
      "text/plain": [
       "Date            2020-03-04\n",
       "Essential             9889\n",
       "NonEssential         61971\n",
       "Name: 63, dtype: object"
      ]
     },
     "execution_count": 134,
     "metadata": {},
     "output_type": "execute_result"
    }
   ],
   "source": [
    "cityWhole.loc[63]"
   ]
  },
  {
   "cell_type": "code",
   "execution_count": 135,
   "metadata": {},
   "outputs": [
    {
     "data": {
      "image/png": "[encoded data removed]",
      "text/plain": [
       "<Figure size 560x400 with 3 Axes>"
      ]
     },
     "metadata": {},
     "output_type": "display_data"
    }
   ],
   "source": [
    "# the dates and string of first case, first death , shelter in place order are set at the beginning in the notebook\n",
    "# parameter needs to be set are in the previous cell\n",
    "\n",
    "# constants , you don't need to change them\n",
    "ZERO = 0\n",
    "DIST = 5\n",
    "ALPHA = 0.7\n",
    "NROWS = 3\n",
    "NCOLS = 1\n",
    "\n",
    "# plots\n",
    "# constant, you don't need to change them, but if you want to you can change ALPHA OR DIST \n",
    "ALPHA = 0.3\n",
    "DIST = 5\n",
    "ZERO = 0\n",
    "NROWS = 3\n",
    "NCOLS = 1\n",
    "windown_position_std = int(target_pair_std[0]*total_days-1)\n",
    "windown_position_lag = int(target_pair_lag[0]*total_days-1)\n",
    "# title = (\"Essential Early warning signals for city \" + cityname)\n",
    "# No action require below\n",
    "plt.style.use('classic')\n",
    "fig1, axes = plt.subplots(nrows = NROWS, ncols = NCOLS, figsize=(7,5), sharex=True)\n",
    "df_ews[['State variable']].plot(ax=axes[0], \n",
    "        color='black', xlim = (-DIST,total_days + DIST),legend = LegendTF,\n",
    "        marker='o', markersize=3) # frame auto set\n",
    "df_ews[['Smoothing']].plot(ax=axes[0], color='red', xlim = (-DIST,total_days + DIST),legend = LegendTF)\n",
    "df_ews[['Residuals']].plot(ax=axes[0], color='blue', xlim = (-DIST,total_days + DIST),legend = LegendTF,\n",
    "                            marker='o', markersize=3, linestyle='dashed') # frame auto set\n",
    "#axes[0].axvline(x = case_num, color='red', label='First case')\n",
    "#axes[0].axvline(x = death_num, color='yellow')\n",
    "#axes[0].axvline(x = shelter_num, color='yellow', label='Shelter in place')\n",
    "#axes[0].annotate('First Case' +'\\n'+ first_case, xy=((case_num + DIST), annotation_location_2)) # location auto set\n",
    "#axes[0].annotate('First Death'+'\\n'+ first_death, xy=((death_num - DIST), annotation_location_2)) # location auto set\n",
    "#axes[0].annotate('Shelter in Place'+'\\n'+ shelter, xy=((shelter_num + DIST), annotation_location_1)) # location auto set\n",
    "#axes[0].axvspan(bar_start_1, bar_end_1, alpha=ALPHA, color='gray')\n",
    "#axes[0].legend(loc=3, ncol=3)\n",
    "axes[0].set_ylabel('Visits', fontsize=14)\n",
    "axes[0].ticklabel_format(axis='y', style='sci', scilimits=(0,0))\n",
    "#axes[0].annotate('(d)', xy=(1 - DIST, 0.8*np.max(df_ews[[\"State variable\"]])))\n",
    "\n",
    "\n",
    "\n",
    "\n",
    "df_ews_std['Standard deviation'].plot(ax=axes[1],legend=False, xlim = (-DIST,total_days+DIST),\n",
    "                                      color=\"black\", marker='o', markersize=3, ls='--', markerfacecolor='none') # frame auto set\n",
    "axes[1].axvline(x = case_num, color='red')\n",
    "#axes[1].axvline(x = death_num, color='purple')\n",
    "axes[1].axvline(x = shelter_num, color='blue')\n",
    "axes[1].annotate(\"Kendall tau:\" + str(round(df_ktau_std[\"Standard deviation\"][0],4)), xy=(ZERO, 0.7*annotation_location_3)) # location auto set\n",
    "#axes[1].annotate('First Case' +'\\n'+ first_case, xy=((case_num + DIST), annotation_location_3)) # location auto set\n",
    "#axes[1].annotate('First Death'+'\\n'+ first_death, xy=((death_num - DIST), annotation_location_3)) # location auto set\n",
    "#axes[1].annotate('Shelter in Place'+'\\n'+ shelter, xy=((shelter_num + DIST), annotation_location_3)) # location auto set\n",
    "axes[1].axvspan(bar_start_2, bar_end_2, alpha = ALPHA, color='gray', label='Early Warning Period')\n",
    "axes[1].axvline(x = windown_position_std, color='black', ls='--')\n",
    "axes[1].annotate(\"\", xy=(0, 1.1*annotation_location_3), xytext=(windown_position_std, 1.1*annotation_location_3),\n",
    "    arrowprops=dict(arrowstyle=\"<|-|>\", connectionstyle=\"arc3\", ls='--',color='black'))\n",
    "axes[1].text(windown_position_std*0.5, 1.1*annotation_location_3, 'Window size',\n",
    "            {'color': 'black', 'ha': 'center', 'va': 'bottom'})\n",
    "#axes[1].legend(loc=2, ncol=1)\n",
    "axes[1].set_ylabel('Std', fontsize=14)\n",
    "#axes[1].annotate('(e)', xy=(1 - DIST, 0.9*np.max(df_ews_std[[\"Standard deviation\"]])))\n",
    "\n",
    "\n",
    "\n",
    "\n",
    "df_ews_lag[['Lag-1 AC']].plot(ax=axes[2],legend=False, xlim = (-DIST,total_days+DIST),\n",
    "                             color=\"black\", marker='s', markersize=3, ls='--', markerfacecolor='none') # frame auto set\n",
    "axes[2].axvline(x = case_num, color='red')\n",
    "#axes[2].axvline(x = death_num, color='purple')\n",
    "axes[2].axvline(x = shelter_num, color='blue')\n",
    "axes[2].annotate(\"Kendall tau: \" + str(round(df_ktau_lag[\"Lag-1 AC\"][0],4)),xy=(ZERO, annotation_location_4*0.6)) # location auto set\n",
    "\n",
    "#axes[2].annotate('First Case' +'\\n'+ first_case, xy=((case_num + DIST), annotation_location_4)) # location auto set\n",
    "#axes[2].annotate('First Death'+'\\n'+ first_death, xy=((death_num - DIST), annotation_location_4)) # location auto set\n",
    "#axes[2].annotate('Shelter in Place'+'\\n'+ shelter, xy=((shelter_num + DIST), annotation_location_4)) # location auto set\n",
    "axes[2].axvspan(bar_start_3, bar_end_3, alpha = ALPHA, color='gray', label='Early Warning Period') \n",
    "axes[2].axvline(x = windown_position_lag, color='black', ls='--')\n",
    "axes[2].annotate(\"\", xy=(0, 1.1*annotation_location_4), xytext=(windown_position_lag, 1.1*annotation_location_4),\n",
    "    arrowprops=dict(arrowstyle=\"<|-|>\", connectionstyle=\"arc3\", ls='--', color='black'))\n",
    "axes[2].text(windown_position_lag*0.5, 1.1*annotation_location_4, 'Window size',\n",
    "            {'color': 'black', 'ha': 'center', 'va': 'bottom'})\n",
    "#axes[2].legend(loc=2)\n",
    "axes[2].set_ylabel('AC(1)')\n",
    "#axes[2].annotate('(f)', xy=(1-DIST, 0.85*np.max(df_ews_lag[[\"Lag-1 AC\"]])))\n",
    "x_tick = [1, 'Jan-1', 'Jan-21', 'Feb-10', 'Mar-1', 'Mar-21']\n",
    "axes[2].set_xticklabels(x_tick)\n",
    "\n",
    "\n",
    "foo_fig = plt.gcf()  # 'get current figure'\n",
    "\n",
    "\n",
    "# set \"generateNow\" in previous cell\n",
    "if (generateNow):\n",
    "    os.chdir(path_written_to)\n",
    "    foo_fig.savefig((cityname + \"-NonEssential-new.png\"))"
   ]
  },
  {
   "cell_type": "code",
   "execution_count": 136,
   "metadata": {},
   "outputs": [
    {
     "data": {
      "image/png": "[encoded data removed]",
      "text/plain": [
       "<Figure size 360x400 with 2 Axes>"
      ]
     },
     "metadata": {},
     "output_type": "display_data"
    }
   ],
   "source": [
    "fig, ax = plt.subplots(figsize=(4.5,5))\n",
    "#fig = plt.figure(figsize=(10,8))\n",
    "plt.style.use('classic')\n",
    "\n",
    "#z = list(storage_lag)\n",
    "#z.insert(0, np.min(storage_lag))\n",
    "#ax.contour(bw, rw, np.array(z).reshape(30, 38), cmap=\"RdBu_r\")\n",
    "\n",
    "window, bandwith = zip(*TupList)\n",
    "x = window[1:]\n",
    "y = bandwith[1:]\n",
    "if np.max(storage_std)>np.max(storage_lag):\n",
    "    z = storage_std\n",
    "else:\n",
    "    z= storage_lag\n",
    "ax.tricontour(x, y, z, levels=14, linewidths=0.5, colors='k')\n",
    "cntr = ax.tricontourf(x, y, z, levels=14, cmap=\"RdBu_r\")\n",
    "fig.colorbar(cntr, ax=ax)\n",
    "ax.set(xlim=(0.2, 0.5), ylim=(20, 90))\n",
    "ax.set_ylabel('Smoothing bandwith', fontsize=12)\n",
    "ax.set_xlabel('Rolling Window Size', fontsize=12)\n",
    "\n",
    "foo_fig = plt.gcf()  # 'get current figure'\n",
    "# set \"generateNow\" in previous cell\n",
    "if (generateNow):\n",
    "    os.chdir(path_written_to)\n",
    "    foo_fig.savefig((cityname + \"-NonEssential_contour-new.png\"))"
   ]
  },
  {
   "cell_type": "code",
   "execution_count": 137,
   "metadata": {},
   "outputs": [
    {
     "data": {
      "image/png": "[encoded data removed]",
      "text/plain": [
       "<Figure size 240x400 with 1 Axes>"
      ]
     },
     "metadata": {},
     "output_type": "display_data"
    }
   ],
   "source": [
    "plt.style.use('classic')\n",
    "fig = plt.figure(figsize=(3,5))\n",
    "\n",
    "#z = list(storage_lag)\n",
    "#z.insert(0, np.min(storage_lag))\n",
    "#ax.contour(bw, rw, np.array(z).reshape(30, 38), cmap=\"RdBu_r\")\n",
    "\n",
    "if np.max(storage_std)>np.max(storage_lag):\n",
    "    a = storage_std\n",
    "    label = 'Std'\n",
    "else:\n",
    "    a= storage_lag\n",
    "    label = 'AC(1)'\n",
    "\n",
    "hist,bins = np.histogram(a,bins=40)\n",
    "\n",
    "plt.hist(a, bins = bins, color='grey')\n",
    "\n",
    "plt.xlabel('Kendall tau (' + label + ')')\n",
    "\n",
    "\n",
    "foo_fig = plt.gcf()  # 'get current figure'\n",
    "# set \"generateNow\" in previous cell\n",
    "if (generateNow):\n",
    "    os.chdir(path_written_to)\n",
    "    foo_fig.savefig((cityname + \"-NonEssential_histogram-new.png\"))"
   ]
  },
  {
   "cell_type": "code",
   "execution_count": 340,
   "metadata": {},
   "outputs": [
    {
     "name": "stdout",
     "output_type": "stream",
     "text": [
      "Help on function ews_compute in module ewstools.core:\n",
      "\n",
      "ews_compute(raw_series, roll_window=0.4, smooth='Lowess', span=0.1, band_width=0.2, upto='Full', ews=['var', 'ac'], lag_times=[1], ham_length=40, ham_offset=0.5, pspec_roll_offset=20, w_cutoff=1, aic=['Fold', 'Hopf', 'Null'], sweep=False)\n",
      "    Compute temporal and spectral EWS from time-series data.\n",
      "    \n",
      "    Args\n",
      "    ----\n",
      "    raw_series: pd.Series\n",
      "        Time-series data to analyse. Indexed by time.\n",
      "    roll_window: float\n",
      "        Rolling window size as a proportion of the length of the time-series \n",
      "        data.\n",
      "    smooth: {'Gaussian', 'Lowess', 'None'}\n",
      "        Type of detrending.\n",
      "    band_width: float\n",
      "        Bandwidth of Gaussian kernel. Taken as a proportion of time-series length if in (0,1), \n",
      "        otherwise taken as absolute.\n",
      "    span: float\n",
      "        Span of time-series data used for Lowess filtering. Taken as a \n",
      "        proportion of time-series length if in (0,1), otherwise taken as \n",
      "        absolute.\n",
      "    upto: int or 'Full'\n",
      "        Time up to which EWS are computed. Enter 'Full' to use\n",
      "        the entire time-series. Otherwise enter a time value.\n",
      "    ews: list of {'var', 'ac', 'sd', 'cv', 'skew', 'kurt', 'smax', 'cf', 'aic', 'smax/var', 'smax/mean'}\n",
      "                 List of EWS to compute. Options include variance ('var'),\n",
      "                 autocorrelation ('ac'), standard deviation ('sd'), coefficient\n",
      "                 of variation ('cv'), skewness ('skew'), kurtosis ('kurt'), peak in\n",
      "                 the power spectrum ('smax'), coherence factor ('cf'), AIC weights ('aic'),\n",
      "         ratio of peak in power spectrum and variance ('smax/var'), ratio of\n",
      "         peak in power spectrum and mean of time series (smax/mean')\n",
      "    lag_times: list of int\n",
      "        List of lag times at which to compute autocorrelation.\n",
      "    ham_length: int\n",
      "        Length of the Hamming window used to compute the power spectrum.\n",
      "    ham_offset: float\n",
      "        Hamming offset as a proportion of the Hamming window size.\n",
      "    pspec_roll_offset: int\n",
      "        Rolling window offset used when computing power spectra. Power spectrum \n",
      "        computation is relatively expensive so this is rarely taken as 1 \n",
      "        (as is the case for the other EWS).\n",
      "    w_cutoff: float\n",
      "        Cutoff frequency used in power spectrum. Given as a proportion of the \n",
      "        maximum permissable frequency in the empirical power spectrum.\n",
      "    aic: AIC values to compute\n",
      "    sweep: bool\n",
      "        If 'True', sweep over a range of intialisation \n",
      "        parameters when optimising to compute AIC scores, at the expense of \n",
      "        longer computation. If 'False', intialisation parameter is taken as the\n",
      "        'best guess'.\n",
      "    \n",
      "    Returns\n",
      "    --------\n",
      "    dict of pd.DataFrames:\n",
      "        A dictionary with the following entries.\n",
      "        **'EWS metrics':** A DataFrame indexed by time with columns corresopnding \n",
      "        to each EWS.\n",
      "        **'Power spectrum':** A DataFrame of the measured power spectra and the best fits \n",
      "        used to give the AIC weights. Indexed by time. \n",
      "        **'Kendall tau':** A DataFrame of the Kendall tau values for each EWS metric.\n",
      "\n"
     ]
    }
   ],
   "source": [
    "help(core.ews_compute)"
   ]
  },
  {
   "cell_type": "code",
   "execution_count": null,
   "metadata": {},
   "outputs": [],
   "source": []
  }
 ],
 "metadata": {
  "kernelspec": {
   "display_name": "Python 3",
   "language": "python",
   "name": "python3"
  },
  "language_info": {
   "codemirror_mode": {
    "name": "ipython",
    "version": 3
   },
   "file_extension": ".py",
   "mimetype": "text/x-python",
   "name": "python",
   "nbconvert_exporter": "python",
   "pygments_lexer": "ipython3",
   "version": "3.6.10"
  }
 },
 "nbformat": 4,
 "nbformat_minor": 4
}
