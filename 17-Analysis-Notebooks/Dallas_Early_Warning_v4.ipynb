{
 "cells": [
  {
   "cell_type": "code",
   "execution_count": 1,
   "metadata": {},
   "outputs": [],
   "source": [
    "import pandas as pd\n",
    "import numpy as np\n",
    "import os\n",
    "import matplotlib.pyplot as plt\n",
    "import seaborn as sns\n",
    "from ewstools import core\n",
    "import itertools"
   ]
  },
  {
   "cell_type": "code",
   "execution_count": 2,
   "metadata": {},
   "outputs": [],
   "source": [
    "# set your path\n",
    "path_from = \"/Users/liqingchun/Google Drive/Dissertation/Paper/Journal/Early Warning/Evelyn_results/Covid-Early-Warning/Filtered-Time-Series-Data/Dallas/\"\n",
    "path_written_to = \"/Users/liqingchun/Google Drive/Dissertation/Paper/Journal/Early Warning/Evelyn_results/Covid-Early-Warning/results/Dallas/\""
   ]
  },
  {
   "cell_type": "code",
   "execution_count": 3,
   "metadata": {},
   "outputs": [],
   "source": [
    "cityname = \"Dallas\""
   ]
  },
  {
   "cell_type": "code",
   "execution_count": 4,
   "metadata": {},
   "outputs": [],
   "source": [
    "input_jan = \"dallas-time-series-Jan-new.csv\"\n",
    "input_feb = \"dallas-time-series-Feb-new.csv\"\n",
    "input_mar = \"dallas-time-series-Mar-new.csv\""
   ]
  },
  {
   "cell_type": "code",
   "execution_count": 5,
   "metadata": {},
   "outputs": [],
   "source": [
    "# first case, death, shelter in place\n",
    "\n",
    "first_case = \"Mar. 10th\"\n",
    "first_death = \"Mar. 19th\"\n",
    "shelter = \"Mar. 23nd\"\n",
    "\n",
    "# start from zero, since the graph has zero\n",
    "case_num = 31 + 29 + 10 - 1\n",
    "death_num = 31 + 29 + 19 - 1\n",
    "shelter_num = 31 + 29 + 23 - 1"
   ]
  },
  {
   "cell_type": "code",
   "execution_count": 6,
   "metadata": {},
   "outputs": [],
   "source": [
    "# set the starting value, ending value and step for bandwidth and rowing window\n",
    "bw_start = 20\n",
    "bw_end = 90\n",
    "bw_step = 2\n",
    "bw_number = 36\n",
    "\n",
    "rw_start = 0.2\n",
    "rw_end = 0.5\n",
    "rw_step = 0.01\n",
    "rw_number = 31\n",
    "\n",
    "\n",
    "# move forward\n",
    "span = 0.25\n",
    "lags = [1] \n",
    "ews = ['sd','ac'] "
   ]
  },
  {
   "cell_type": "code",
   "execution_count": 7,
   "metadata": {},
   "outputs": [
    {
     "data": {
      "text/plain": [
       "'/Users/liqingchun/Google Drive/Dissertation/Paper/Journal/Early Warning/Evelyn_results/Covid-Early-Warning/Filtered-Time-Series-Data/Dallas'"
      ]
     },
     "execution_count": 7,
     "metadata": {},
     "output_type": "execute_result"
    }
   ],
   "source": [
    "os.chdir(path_from)\n",
    "os.getcwd()"
   ]
  },
  {
   "cell_type": "code",
   "execution_count": 8,
   "metadata": {},
   "outputs": [
    {
     "name": "stdout",
     "output_type": "stream",
     "text": [
      "Index(['Unnamed: 0', 'Date', 'Essential', 'NonEssential'], dtype='object')\n"
     ]
    }
   ],
   "source": [
    "# read\n",
    "df1 = pd.read_csv(input_jan)\n",
    "print(df1.columns)"
   ]
  },
  {
   "cell_type": "code",
   "execution_count": 9,
   "metadata": {},
   "outputs": [],
   "source": [
    "# drop the index column\n",
    "df1 = df1.drop('Unnamed: 0',axis=1)"
   ]
  },
  {
   "cell_type": "code",
   "execution_count": 10,
   "metadata": {},
   "outputs": [
    {
     "data": {
      "text/html": [
       "<div>\n",
       "<style scoped>\n",
       "    .dataframe tbody tr th:only-of-type {\n",
       "        vertical-align: middle;\n",
       "    }\n",
       "\n",
       "    .dataframe tbody tr th {\n",
       "        vertical-align: top;\n",
       "    }\n",
       "\n",
       "    .dataframe thead th {\n",
       "        text-align: right;\n",
       "    }\n",
       "</style>\n",
       "<table border=\"1\" class=\"dataframe\">\n",
       "  <thead>\n",
       "    <tr style=\"text-align: right;\">\n",
       "      <th></th>\n",
       "      <th>Date</th>\n",
       "      <th>Essential</th>\n",
       "      <th>NonEssential</th>\n",
       "    </tr>\n",
       "  </thead>\n",
       "  <tbody>\n",
       "    <tr>\n",
       "      <th>0</th>\n",
       "      <td>2020-01-01</td>\n",
       "      <td>28812</td>\n",
       "      <td>144231</td>\n",
       "    </tr>\n",
       "    <tr>\n",
       "      <th>1</th>\n",
       "      <td>2020-01-02</td>\n",
       "      <td>46456</td>\n",
       "      <td>200511</td>\n",
       "    </tr>\n",
       "    <tr>\n",
       "      <th>2</th>\n",
       "      <td>2020-01-03</td>\n",
       "      <td>48796</td>\n",
       "      <td>218739</td>\n",
       "    </tr>\n",
       "    <tr>\n",
       "      <th>3</th>\n",
       "      <td>2020-01-04</td>\n",
       "      <td>40162</td>\n",
       "      <td>204105</td>\n",
       "    </tr>\n",
       "    <tr>\n",
       "      <th>4</th>\n",
       "      <td>2020-01-05</td>\n",
       "      <td>36193</td>\n",
       "      <td>173210</td>\n",
       "    </tr>\n",
       "    <tr>\n",
       "      <th>5</th>\n",
       "      <td>2020-01-06</td>\n",
       "      <td>48685</td>\n",
       "      <td>204400</td>\n",
       "    </tr>\n",
       "    <tr>\n",
       "      <th>6</th>\n",
       "      <td>2020-01-07</td>\n",
       "      <td>50474</td>\n",
       "      <td>211925</td>\n",
       "    </tr>\n",
       "    <tr>\n",
       "      <th>7</th>\n",
       "      <td>2020-01-08</td>\n",
       "      <td>51974</td>\n",
       "      <td>224643</td>\n",
       "    </tr>\n",
       "    <tr>\n",
       "      <th>8</th>\n",
       "      <td>2020-01-09</td>\n",
       "      <td>53243</td>\n",
       "      <td>232417</td>\n",
       "    </tr>\n",
       "    <tr>\n",
       "      <th>9</th>\n",
       "      <td>2020-01-10</td>\n",
       "      <td>51136</td>\n",
       "      <td>230045</td>\n",
       "    </tr>\n",
       "    <tr>\n",
       "      <th>10</th>\n",
       "      <td>2020-01-11</td>\n",
       "      <td>43541</td>\n",
       "      <td>215394</td>\n",
       "    </tr>\n",
       "    <tr>\n",
       "      <th>11</th>\n",
       "      <td>2020-01-12</td>\n",
       "      <td>39042</td>\n",
       "      <td>183553</td>\n",
       "    </tr>\n",
       "    <tr>\n",
       "      <th>12</th>\n",
       "      <td>2020-01-13</td>\n",
       "      <td>49186</td>\n",
       "      <td>205169</td>\n",
       "    </tr>\n",
       "    <tr>\n",
       "      <th>13</th>\n",
       "      <td>2020-01-14</td>\n",
       "      <td>45649</td>\n",
       "      <td>194720</td>\n",
       "    </tr>\n",
       "    <tr>\n",
       "      <th>14</th>\n",
       "      <td>2020-01-15</td>\n",
       "      <td>51992</td>\n",
       "      <td>224732</td>\n",
       "    </tr>\n",
       "    <tr>\n",
       "      <th>15</th>\n",
       "      <td>2020-01-16</td>\n",
       "      <td>47274</td>\n",
       "      <td>208914</td>\n",
       "    </tr>\n",
       "    <tr>\n",
       "      <th>16</th>\n",
       "      <td>2020-01-17</td>\n",
       "      <td>46088</td>\n",
       "      <td>217921</td>\n",
       "    </tr>\n",
       "    <tr>\n",
       "      <th>17</th>\n",
       "      <td>2020-01-18</td>\n",
       "      <td>44224</td>\n",
       "      <td>225227</td>\n",
       "    </tr>\n",
       "    <tr>\n",
       "      <th>18</th>\n",
       "      <td>2020-01-19</td>\n",
       "      <td>37845</td>\n",
       "      <td>186793</td>\n",
       "    </tr>\n",
       "    <tr>\n",
       "      <th>19</th>\n",
       "      <td>2020-01-20</td>\n",
       "      <td>44482</td>\n",
       "      <td>192680</td>\n",
       "    </tr>\n",
       "    <tr>\n",
       "      <th>20</th>\n",
       "      <td>2020-01-21</td>\n",
       "      <td>44994</td>\n",
       "      <td>198034</td>\n",
       "    </tr>\n",
       "    <tr>\n",
       "      <th>21</th>\n",
       "      <td>2020-01-22</td>\n",
       "      <td>47215</td>\n",
       "      <td>210691</td>\n",
       "    </tr>\n",
       "    <tr>\n",
       "      <th>22</th>\n",
       "      <td>2020-01-23</td>\n",
       "      <td>46205</td>\n",
       "      <td>212517</td>\n",
       "    </tr>\n",
       "    <tr>\n",
       "      <th>23</th>\n",
       "      <td>2020-01-24</td>\n",
       "      <td>51835</td>\n",
       "      <td>245473</td>\n",
       "    </tr>\n",
       "    <tr>\n",
       "      <th>24</th>\n",
       "      <td>2020-01-25</td>\n",
       "      <td>37499</td>\n",
       "      <td>199891</td>\n",
       "    </tr>\n",
       "    <tr>\n",
       "      <th>25</th>\n",
       "      <td>2020-01-26</td>\n",
       "      <td>35118</td>\n",
       "      <td>172394</td>\n",
       "    </tr>\n",
       "    <tr>\n",
       "      <th>26</th>\n",
       "      <td>2020-01-27</td>\n",
       "      <td>49537</td>\n",
       "      <td>215337</td>\n",
       "    </tr>\n",
       "    <tr>\n",
       "      <th>27</th>\n",
       "      <td>2020-01-28</td>\n",
       "      <td>42384</td>\n",
       "      <td>191858</td>\n",
       "    </tr>\n",
       "    <tr>\n",
       "      <th>28</th>\n",
       "      <td>2020-01-29</td>\n",
       "      <td>43197</td>\n",
       "      <td>194679</td>\n",
       "    </tr>\n",
       "    <tr>\n",
       "      <th>29</th>\n",
       "      <td>2020-01-30</td>\n",
       "      <td>46394</td>\n",
       "      <td>217491</td>\n",
       "    </tr>\n",
       "    <tr>\n",
       "      <th>30</th>\n",
       "      <td>2020-01-31</td>\n",
       "      <td>55621</td>\n",
       "      <td>263054</td>\n",
       "    </tr>\n",
       "  </tbody>\n",
       "</table>\n",
       "</div>"
      ],
      "text/plain": [
       "          Date  Essential  NonEssential\n",
       "0   2020-01-01      28812        144231\n",
       "1   2020-01-02      46456        200511\n",
       "2   2020-01-03      48796        218739\n",
       "3   2020-01-04      40162        204105\n",
       "4   2020-01-05      36193        173210\n",
       "5   2020-01-06      48685        204400\n",
       "6   2020-01-07      50474        211925\n",
       "7   2020-01-08      51974        224643\n",
       "8   2020-01-09      53243        232417\n",
       "9   2020-01-10      51136        230045\n",
       "10  2020-01-11      43541        215394\n",
       "11  2020-01-12      39042        183553\n",
       "12  2020-01-13      49186        205169\n",
       "13  2020-01-14      45649        194720\n",
       "14  2020-01-15      51992        224732\n",
       "15  2020-01-16      47274        208914\n",
       "16  2020-01-17      46088        217921\n",
       "17  2020-01-18      44224        225227\n",
       "18  2020-01-19      37845        186793\n",
       "19  2020-01-20      44482        192680\n",
       "20  2020-01-21      44994        198034\n",
       "21  2020-01-22      47215        210691\n",
       "22  2020-01-23      46205        212517\n",
       "23  2020-01-24      51835        245473\n",
       "24  2020-01-25      37499        199891\n",
       "25  2020-01-26      35118        172394\n",
       "26  2020-01-27      49537        215337\n",
       "27  2020-01-28      42384        191858\n",
       "28  2020-01-29      43197        194679\n",
       "29  2020-01-30      46394        217491\n",
       "30  2020-01-31      55621        263054"
      ]
     },
     "execution_count": 10,
     "metadata": {},
     "output_type": "execute_result"
    }
   ],
   "source": [
    "# schema of the data frame\n",
    "df1"
   ]
  },
  {
   "cell_type": "code",
   "execution_count": 11,
   "metadata": {},
   "outputs": [
    {
     "name": "stdout",
     "output_type": "stream",
     "text": [
      "(29, 3)\n",
      "(31, 3)\n"
     ]
    }
   ],
   "source": [
    "df2 = pd.read_csv(input_feb)\n",
    "df2 = df2.drop('Unnamed: 0',axis=1)\n",
    "df3 = pd.read_csv(input_mar)\n",
    "df3 = df3.drop('Unnamed: 0',axis=1)\n",
    "print(df2.shape)\n",
    "print(df3.shape)"
   ]
  },
  {
   "cell_type": "code",
   "execution_count": 12,
   "metadata": {},
   "outputs": [
    {
     "data": {
      "text/html": [
       "<div>\n",
       "<style scoped>\n",
       "    .dataframe tbody tr th:only-of-type {\n",
       "        vertical-align: middle;\n",
       "    }\n",
       "\n",
       "    .dataframe tbody tr th {\n",
       "        vertical-align: top;\n",
       "    }\n",
       "\n",
       "    .dataframe thead th {\n",
       "        text-align: right;\n",
       "    }\n",
       "</style>\n",
       "<table border=\"1\" class=\"dataframe\">\n",
       "  <thead>\n",
       "    <tr style=\"text-align: right;\">\n",
       "      <th></th>\n",
       "      <th>Date</th>\n",
       "      <th>Essential</th>\n",
       "      <th>NonEssential</th>\n",
       "    </tr>\n",
       "  </thead>\n",
       "  <tbody>\n",
       "    <tr>\n",
       "      <th>0</th>\n",
       "      <td>2020-01-01</td>\n",
       "      <td>28812</td>\n",
       "      <td>144231</td>\n",
       "    </tr>\n",
       "    <tr>\n",
       "      <th>1</th>\n",
       "      <td>2020-01-02</td>\n",
       "      <td>46456</td>\n",
       "      <td>200511</td>\n",
       "    </tr>\n",
       "    <tr>\n",
       "      <th>2</th>\n",
       "      <td>2020-01-03</td>\n",
       "      <td>48796</td>\n",
       "      <td>218739</td>\n",
       "    </tr>\n",
       "    <tr>\n",
       "      <th>3</th>\n",
       "      <td>2020-01-04</td>\n",
       "      <td>40162</td>\n",
       "      <td>204105</td>\n",
       "    </tr>\n",
       "    <tr>\n",
       "      <th>4</th>\n",
       "      <td>2020-01-05</td>\n",
       "      <td>36193</td>\n",
       "      <td>173210</td>\n",
       "    </tr>\n",
       "    <tr>\n",
       "      <th>...</th>\n",
       "      <td>...</td>\n",
       "      <td>...</td>\n",
       "      <td>...</td>\n",
       "    </tr>\n",
       "    <tr>\n",
       "      <th>86</th>\n",
       "      <td>2020-03-27</td>\n",
       "      <td>22814</td>\n",
       "      <td>80345</td>\n",
       "    </tr>\n",
       "    <tr>\n",
       "      <th>87</th>\n",
       "      <td>2020-03-28</td>\n",
       "      <td>20042</td>\n",
       "      <td>73815</td>\n",
       "    </tr>\n",
       "    <tr>\n",
       "      <th>88</th>\n",
       "      <td>2020-03-29</td>\n",
       "      <td>27852</td>\n",
       "      <td>147233</td>\n",
       "    </tr>\n",
       "    <tr>\n",
       "      <th>89</th>\n",
       "      <td>2020-03-30</td>\n",
       "      <td>21699</td>\n",
       "      <td>77603</td>\n",
       "    </tr>\n",
       "    <tr>\n",
       "      <th>90</th>\n",
       "      <td>2020-03-31</td>\n",
       "      <td>19157</td>\n",
       "      <td>60639</td>\n",
       "    </tr>\n",
       "  </tbody>\n",
       "</table>\n",
       "<p>91 rows × 3 columns</p>\n",
       "</div>"
      ],
      "text/plain": [
       "          Date  Essential  NonEssential\n",
       "0   2020-01-01      28812        144231\n",
       "1   2020-01-02      46456        200511\n",
       "2   2020-01-03      48796        218739\n",
       "3   2020-01-04      40162        204105\n",
       "4   2020-01-05      36193        173210\n",
       "..         ...        ...           ...\n",
       "86  2020-03-27      22814         80345\n",
       "87  2020-03-28      20042         73815\n",
       "88  2020-03-29      27852        147233\n",
       "89  2020-03-30      21699         77603\n",
       "90  2020-03-31      19157         60639\n",
       "\n",
       "[91 rows x 3 columns]"
      ]
     },
     "execution_count": 12,
     "metadata": {},
     "output_type": "execute_result"
    }
   ],
   "source": [
    "# combine\n",
    "cityWhole = pd.concat([df1,df2,df3],ignore_index=True)\n",
    "cityWhole"
   ]
  },
  {
   "cell_type": "code",
   "execution_count": 52,
   "metadata": {},
   "outputs": [
    {
     "name": "stdout",
     "output_type": "stream",
     "text": [
      "[0.14967357 0.01997546]\n",
      "[0.45794044 0.58055047]\n"
     ]
    }
   ],
   "source": [
    "baseline = cityWhole.loc[16:36,:].set_index('Date').loc[:,'Essential':'NonEssential']\n",
    "temp_avr = baseline.values.reshape(-1,7,2).mean(axis=1)\n",
    "\n",
    "temp_avr = temp_avr.mean(axis=0)\n",
    "\n",
    "#temp_avr\n",
    "\n",
    "perc_change = cityWhole.loc[37:85,:].set_index('Date').loc[:,'Essential':'NonEssential']\n",
    "perc_change_mean = perc_change.values.reshape(-1,7,2).mean(axis=1)\n",
    "\n",
    "#perc_change_mean\n",
    "\n",
    "temp_result = (temp_avr - perc_change_mean)/temp_avr\n",
    "\n",
    "#temp_result\n",
    "\n",
    "print(temp_result[3])\n",
    "print(temp_result[-1])"
   ]
  },
  {
   "cell_type": "code",
   "execution_count": 13,
   "metadata": {},
   "outputs": [
    {
     "name": "stdout",
     "output_type": "stream",
     "text": [
      "91\n"
     ]
    },
    {
     "data": {
      "text/plain": [
       "RangeIndex(start=0, stop=91, step=1)"
      ]
     },
     "execution_count": 13,
     "metadata": {},
     "output_type": "execute_result"
    }
   ],
   "source": [
    "total_days = len(cityWhole)\n",
    "print(total_days)\n",
    "cityWhole.index"
   ]
  },
  {
   "cell_type": "code",
   "execution_count": 14,
   "metadata": {},
   "outputs": [],
   "source": [
    "# create two list of possible rowing-window values and band-width values, put them into list to feed into itertools functions\n",
    "rw = list(np.linspace(rw_start,rw_end,rw_number, endpoint=True))\n",
    "bw = list(np.linspace(bw_start,bw_end,bw_number, endpoint=True))\n",
    "list1 = [rw,bw]"
   ]
  },
  {
   "cell_type": "code",
   "execution_count": 15,
   "metadata": {},
   "outputs": [
    {
     "data": {
      "text/plain": [
       "[20.0,\n",
       " 22.0,\n",
       " 24.0,\n",
       " 26.0,\n",
       " 28.0,\n",
       " 30.0,\n",
       " 32.0,\n",
       " 34.0,\n",
       " 36.0,\n",
       " 38.0,\n",
       " 40.0,\n",
       " 42.0,\n",
       " 44.0,\n",
       " 46.0,\n",
       " 48.0,\n",
       " 50.0,\n",
       " 52.0,\n",
       " 54.0,\n",
       " 56.0,\n",
       " 58.0,\n",
       " 60.0,\n",
       " 62.0,\n",
       " 64.0,\n",
       " 66.0,\n",
       " 68.0,\n",
       " 70.0,\n",
       " 72.0,\n",
       " 74.0,\n",
       " 76.0,\n",
       " 78.0,\n",
       " 80.0,\n",
       " 82.0,\n",
       " 84.0,\n",
       " 86.0,\n",
       " 88.0,\n",
       " 90.0]"
      ]
     },
     "execution_count": 15,
     "metadata": {},
     "output_type": "execute_result"
    }
   ],
   "source": [
    "bw"
   ]
  },
  {
   "cell_type": "code",
   "execution_count": 16,
   "metadata": {},
   "outputs": [],
   "source": [
    "# generate a list of tuples that contains (rowing-window-value,bandwidth-value) pairs\n",
    "prod = itertools.product(*list1)\n",
    "TupList = []\n",
    "for i in prod:\n",
    "    TupList.append(i)"
   ]
  },
  {
   "cell_type": "code",
   "execution_count": 17,
   "metadata": {},
   "outputs": [
    {
     "data": {
      "text/plain": [
       "(0.2, 20.0)"
      ]
     },
     "execution_count": 17,
     "metadata": {},
     "output_type": "execute_result"
    }
   ],
   "source": [
    "TupList[0]"
   ]
  },
  {
   "cell_type": "code",
   "execution_count": 18,
   "metadata": {},
   "outputs": [],
   "source": [
    "# create 2 new lists to store all values of std and all values of lag-1AC\n",
    "storage_std = np.array([])\n",
    "storage_lag = np.array([])"
   ]
  },
  {
   "cell_type": "code",
   "execution_count": 19,
   "metadata": {},
   "outputs": [],
   "source": [
    "# for each (rowing-window,bandwidth) pair, compute the ews dataframe, store the corresponding kendall tau value of std into storage_std, and store the corresponding kendall tau value of lag into storage_lag\n",
    "for i in range(len(TupList)):\n",
    "    ews_dic = core.ews_compute(cityWhole[\"Essential\"], roll_window = TupList[i][0],smooth ='Gaussian',band_width= TupList[i][1],span = span,lag_times = [1], ews = ews,upto = 'Full')\n",
    "    if i != 0: # exclude the first item since they are NoneType objects and this will make the entire array to be type \"object\" if include them\n",
    "        storage_std = np.append(storage_std,ews_dic['Kendall tau'][\"Standard deviation\"][0]) # pandas series with 1 element, so index 0\n",
    "        storage_lag = np.append(storage_lag, ews_dic['Kendall tau'][\"Lag-1 AC\"][0]) # pandas series with 1 element, so index 0"
   ]
  },
  {
   "cell_type": "code",
   "execution_count": 20,
   "metadata": {},
   "outputs": [
    {
     "name": "stdout",
     "output_type": "stream",
     "text": [
      "0.10912190963341858\n",
      "0.5922565033272836\n"
     ]
    }
   ],
   "source": [
    "# print out the max kendall tau for std and lagAC for comparison\n",
    "max_std = np.amax(storage_std)\n",
    "max_lag = np.amax(storage_lag)\n",
    "print(max_std)\n",
    "print(max_lag)"
   ]
  },
  {
   "cell_type": "code",
   "execution_count": 21,
   "metadata": {},
   "outputs": [
    {
     "name": "stdout",
     "output_type": "stream",
     "text": [
      "1116\n",
      "1115\n",
      "1115\n"
     ]
    }
   ],
   "source": [
    "print(len(TupList))\n",
    "print(len(storage_std))\n",
    "print(len(storage_lag))"
   ]
  },
  {
   "cell_type": "markdown",
   "metadata": {},
   "source": [
    "##### Add one when locating the tuple in TupList since the first item is \"None Type\" in tupList and we did not store that in storage_std and storage_lag"
   ]
  },
  {
   "cell_type": "code",
   "execution_count": 22,
   "metadata": {},
   "outputs": [
    {
     "name": "stdout",
     "output_type": "stream",
     "text": [
      "*** max std located in pair ***\n",
      "index at : [251]in TupList\n",
      "tuple (rowing-windows,bandwidth): (0.26, 90.0)\n",
      "largest std kendall tau: 0.10912190963341858\n"
     ]
    }
   ],
   "source": [
    "# find the location/index of maximum std in the storage_std, and use the index to find the corresponding rowing-window and bandwidth\n",
    "print(\"*** max std located in pair ***\")\n",
    "max_std_index = np.where(storage_std == max_std)\n",
    "print(\"index at : \" + str(max_std_index[0]+1) + \"in TupList\")\n",
    "# store the tuple for comparison\n",
    "target_pair_std = TupList[max_std_index[0][0]+1]\n",
    "print(\"tuple (rowing-windows,bandwidth): \" + str(target_pair_std))\n",
    "print(\"largest std kendall tau: \" + str(max_std))"
   ]
  },
  {
   "cell_type": "code",
   "execution_count": 23,
   "metadata": {},
   "outputs": [
    {
     "name": "stdout",
     "output_type": "stream",
     "text": [
      "*** max lag located in pair ***\n",
      "index at : [648]in TupList\n",
      "tuple (rowing-windows,bandwidth): (0.38, 20.0)\n",
      "largest lag kendall tau: 0.5922565033272836\n"
     ]
    }
   ],
   "source": [
    "# some mechanism to find the index of maximum lagAC and the corresponding tuple\n",
    "print(\"*** max lag located in pair ***\")\n",
    "max_lag_index = np.where(storage_lag == max_lag)\n",
    "print(\"index at : \" + str(max_lag_index[0]+1) + \"in TupList\")\n",
    "# store the tuple for comparison\n",
    "target_pair_lag = TupList[max_lag_index[0][0]+1]\n",
    "print(\"tuple (rowing-windows,bandwidth): \" + str(target_pair_lag))\n",
    "print(\"largest lag kendall tau: \" + str(max_lag))"
   ]
  },
  {
   "cell_type": "code",
   "execution_count": 24,
   "metadata": {},
   "outputs": [
    {
     "name": "stdout",
     "output_type": "stream",
     "text": [
      "lagAC larger, select (0.38, 20.0)\n"
     ]
    }
   ],
   "source": [
    "# create an empty tuple, the tuple that contains larger Kendall Tau value will be selected\n",
    "# select either AC max tuple or Standard Deviation max tuple automatically\n",
    "selected_pair = ()\n",
    "if (max_lag > max_std):\n",
    "    selected_pair = target_pair_lag\n",
    "    print(\"lagAC larger, select \" + str(target_pair_lag))\n",
    "elif(max_lag < max_std):\n",
    "    selected_pair = target_pair_std\n",
    "    print(\"std larger, select \" + str(target_pair_std))\n",
    "else:\n",
    "    print(\"rare case!\")\n",
    "    selected_pair = target_pair_std"
   ]
  },
  {
   "cell_type": "code",
   "execution_count": 25,
   "metadata": {},
   "outputs": [
    {
     "name": "stdout",
     "output_type": "stream",
     "text": [
      "setRW : 0.26\n",
      "setBW : 90.0\n"
     ]
    }
   ],
   "source": [
    "# double check, print out\n",
    "#setRW = selected_pair[0]\n",
    "#setBW = selected_pair[1]\n",
    "setRW = target_pair_std[0]\n",
    "setBW = target_pair_std[1]\n",
    "print(\"setRW : \" + str(setRW))\n",
    "print(\"setBW : \" + str(setBW))\n",
    "\n",
    "ews_dic_std = core.ews_compute(cityWhole[\"Essential\"], \n",
    "                          roll_window = setRW,\n",
    "                           smooth ='Gaussian',\n",
    "                           band_width= setBW,\n",
    "                          span = span,\n",
    "                          lag_times = [1], \n",
    "                          ews = ews,\n",
    "                          upto = 'Full')"
   ]
  },
  {
   "cell_type": "code",
   "execution_count": 26,
   "metadata": {},
   "outputs": [
    {
     "name": "stdout",
     "output_type": "stream",
     "text": [
      "setRW : 0.38\n",
      "setBW : 20.0\n"
     ]
    }
   ],
   "source": [
    "# double check, print out\n",
    "#setRW = selected_pair[0]\n",
    "#setBW = selected_pair[1]\n",
    "setRW = target_pair_lag[0]\n",
    "setBW = target_pair_lag[1]\n",
    "print(\"setRW : \" + str(setRW))\n",
    "print(\"setBW : \" + str(setBW))\n",
    "\n",
    "ews_dic_lag = core.ews_compute(cityWhole[\"Essential\"], \n",
    "                          roll_window = setRW,\n",
    "                           smooth ='Gaussian',\n",
    "                           band_width= setBW,\n",
    "                          span = span,\n",
    "                          lag_times = [1], \n",
    "                          ews = ews,\n",
    "                          upto = 'Full')"
   ]
  },
  {
   "cell_type": "code",
   "execution_count": 27,
   "metadata": {},
   "outputs": [
    {
     "name": "stdout",
     "output_type": "stream",
     "text": [
      "setRW : 0.38\n",
      "setBW : 20.0\n"
     ]
    }
   ],
   "source": [
    "# double check, print out\n",
    "setRW = selected_pair[0]\n",
    "setBW = selected_pair[1]\n",
    "print(\"setRW : \" + str(setRW))\n",
    "print(\"setBW : \" + str(setBW))\n",
    "\n",
    "ews_dic = core.ews_compute(cityWhole[\"Essential\"], \n",
    "                          roll_window = setRW,\n",
    "                           smooth ='Gaussian',\n",
    "                           band_width= setBW,\n",
    "                          span = span,\n",
    "                          lag_times = [1], \n",
    "                          ews = ews,\n",
    "                          upto = 'Full')"
   ]
  },
  {
   "cell_type": "code",
   "execution_count": 28,
   "metadata": {},
   "outputs": [],
   "source": [
    "# dfs\n",
    "df_ews_std = ews_dic_std['EWS metrics']\n",
    "df_ktau_std = ews_dic_std['Kendall tau']\n",
    "\n",
    "df_ews_lag = ews_dic_lag['EWS metrics']\n",
    "df_ktau_lag = ews_dic_lag['Kendall tau']\n",
    "\n",
    "df_ews = ews_dic['EWS metrics']"
   ]
  },
  {
   "cell_type": "code",
   "execution_count": 29,
   "metadata": {},
   "outputs": [],
   "source": [
    "# different cities needs adjustment of the location of annotation since total number varies\n",
    "# set to mean, so location set automatically\n",
    "\n",
    "# location of annotation for the 1st graph\n",
    "annotation_location_1 = np.mean(df_ews[[\"State variable\"]])\n",
    "annotation_location_2 = np.mean(df_ews[[\"Residuals\"]])\n",
    "# location of annotations for the 2nd graph\n",
    "annotation_location_3 = np.mean(df_ews_std[\"Standard deviation\"])\n",
    "# location of annotations for the 3rd graph\n",
    "annotation_location_4 = np.mean(df_ews_lag[\"Lag-1 AC\"])"
   ]
  },
  {
   "cell_type": "code",
   "execution_count": 30,
   "metadata": {},
   "outputs": [],
   "source": [
    "# 2 parameter: you may want to change these two\n",
    "LegendTF = False\n",
    "generateNow = True\n",
    "\n",
    "# set the early warning (gray)band using the variables below \n",
    "\n",
    "# Action Required: the start and the end of band in first graph\n",
    "bar_start_1 = 56 # need modification\n",
    "bar_end_1 = 58 # need modification\n",
    "\n",
    "\n",
    "# Action Required: the start and the end of band in 2nd graph\n",
    "bar_start_2 = 56 # need modification\n",
    "bar_end_2 = 58 # need modification\n",
    "\n",
    "\n",
    "# Action Required: the start and the end of band in 3rd graph\n",
    "bar_start_3 = 56 # need modification\n",
    "bar_end_3 = 58 # need modification"
   ]
  },
  {
   "cell_type": "code",
   "execution_count": 31,
   "metadata": {},
   "outputs": [
    {
     "data": {
      "text/plain": [
       "Date            2020-02-26\n",
       "Essential            43404\n",
       "NonEssential        203009\n",
       "Name: 56, dtype: object"
      ]
     },
     "execution_count": 31,
     "metadata": {},
     "output_type": "execute_result"
    }
   ],
   "source": [
    "cityWhole.loc[56]"
   ]
  },
  {
   "cell_type": "code",
   "execution_count": 32,
   "metadata": {},
   "outputs": [
    {
     "data": {
      "image/png": "[encoded data removed]",
      "text/plain": [
       "<Figure size 560x400 with 3 Axes>"
      ]
     },
     "metadata": {},
     "output_type": "display_data"
    }
   ],
   "source": [
    "# the dates and string of first case, first death , shelter in place order are set at the beginning in the notebook\n",
    "# parameter needs to be set are in the previous cell\n",
    "\n",
    "\n",
    "# constant, you don't need to change them, but if you want to you can change ALPHA OR DIST \n",
    "ALPHA = 0.3\n",
    "DIST = 5\n",
    "ZERO = 0\n",
    "NROWS = 3\n",
    "NCOLS = 1\n",
    "windown_position_std = int(target_pair_std[0]*total_days-1)\n",
    "windown_position_lag = int(target_pair_lag[0]*total_days-1)\n",
    "# title = (\"Essential Early warning signals for city \" + cityname)\n",
    "# No action require below\n",
    "plt.style.use('classic')\n",
    "fig1, axes = plt.subplots(nrows = NROWS, ncols = NCOLS, figsize=(7,5))\n",
    "df_ews[['State variable']].plot(ax=axes[0], \n",
    "        color='black', xlim = (-DIST,total_days + DIST),legend = LegendTF,\n",
    "        marker='o', markersize=3) # frame auto set\n",
    "df_ews[['Smoothing']].plot(ax=axes[0], color='red', xlim = (-DIST,total_days + DIST),legend = LegendTF)\n",
    "df_ews[['Residuals']].plot(ax=axes[0], color='blue', xlim = (-DIST,total_days + DIST),legend = LegendTF,\n",
    "                            marker='o', markersize=3, linestyle='dashed') # frame auto set\n",
    "#axes[0].axvline(x = case_num, color='red', label='First case')\n",
    "#axes[0].axvline(x = death_num, color='yellow')\n",
    "#axes[0].axvline(x = shelter_num, color='yellow', label='Shelter in place')\n",
    "#axes[0].annotate('First Case' +'\\n'+ first_case, xy=((case_num + DIST), annotation_location_2)) # location auto set\n",
    "#axes[0].annotate('First Death'+'\\n'+ first_death, xy=((death_num - DIST), annotation_location_2)) # location auto set\n",
    "#axes[0].annotate('Shelter in Place'+'\\n'+ shelter, xy=((shelter_num + DIST), annotation_location_1)) # location auto set\n",
    "#axes[0].axvspan(bar_start_1, bar_end_1, alpha=ALPHA, color='gray')\n",
    "#axes[0].legend(loc=3, ncol=3)\n",
    "axes[0].set_ylabel('Visits', fontsize=14)\n",
    "axes[0].ticklabel_format(axis='y', style='sci', scilimits=(0,0))\n",
    "#axes[0].annotate('(a)', xy=(1 - DIST, 0.8*np.max(df_ews[[\"State variable\"]])))\n",
    "\n",
    "\n",
    "\n",
    "\n",
    "df_ews_std['Standard deviation'].plot(ax=axes[1],legend=False, xlim = (-DIST,total_days+DIST),\n",
    "                                      color=\"black\", marker='o', markersize=3, ls='--', markerfacecolor='none') # frame auto set\n",
    "axes[1].axvline(x = case_num, color='red')\n",
    "#axes[1].axvline(x = death_num, color='purple')\n",
    "axes[1].axvline(x = shelter_num, color='blue')\n",
    "axes[1].annotate(\"Kendall tau:\" + str(round(df_ktau_std[\"Standard deviation\"][0],4)), xy=(ZERO, 0.7*annotation_location_3)) # location auto set\n",
    "#axes[1].annotate('First Case' +'\\n'+ first_case, xy=((case_num + DIST), annotation_location_3)) # location auto set\n",
    "#axes[1].annotate('First Death'+'\\n'+ first_death, xy=((death_num - DIST), annotation_location_3)) # location auto set\n",
    "#axes[1].annotate('Shelter in Place'+'\\n'+ shelter, xy=((shelter_num + DIST), annotation_location_3)) # location auto set\n",
    "axes[1].axvspan(bar_start_2, bar_end_2, alpha = ALPHA, color='gray', label='Early Warning Period')\n",
    "axes[1].axvline(x = windown_position_std, color='black', ls='--')\n",
    "axes[1].annotate(\"\", xy=(0, 1*annotation_location_3), xytext=(windown_position_std, 1*annotation_location_3),\n",
    "    arrowprops=dict(arrowstyle=\"<|-|>\", connectionstyle=\"arc3\", ls='--',color='black'))\n",
    "axes[1].text(windown_position_std*0.5, 1*annotation_location_3, 'Window size',\n",
    "            {'color': 'black', 'ha': 'center', 'va': 'bottom'})\n",
    "#axes[1].legend(loc=2, ncol=1)\n",
    "axes[1].set_ylabel('Std', fontsize=14)\n",
    "#axes[1].annotate('(b)', xy=(1 - DIST, 0.95*np.max(df_ews_std[[\"Standard deviation\"]])))\n",
    "\n",
    "\n",
    "\n",
    "\n",
    "\n",
    "df_ews_lag[['Lag-1 AC']].plot(ax=axes[2],legend=False, xlim = (-DIST,total_days+DIST),\n",
    "                             color=\"black\", marker='s', markersize=3, ls='--', markerfacecolor='none') # frame auto set\n",
    "axes[2].axvline(x = case_num, color='red')\n",
    "#axes[2].axvline(x = death_num, color='purple')\n",
    "axes[2].axvline(x = shelter_num, color='blue')\n",
    "axes[2].annotate(\"Kendall tau: \" + str(round(df_ktau_lag[\"Lag-1 AC\"][0],4)),xy=(ZERO, annotation_location_4*0.55)) # location auto set\n",
    "\n",
    "#axes[2].annotate('First Case' +'\\n'+ first_case, xy=((case_num + DIST), annotation_location_4)) # location auto set\n",
    "#axes[2].annotate('First Death'+'\\n'+ first_death, xy=((death_num - DIST), annotation_location_4)) # location auto set\n",
    "#axes[2].annotate('Shelter in Place'+'\\n'+ shelter, xy=((shelter_num + DIST), annotation_location_4)) # location auto set\n",
    "axes[2].axvspan(bar_start_3, bar_end_3, alpha = ALPHA, color='gray', label='Early Warning Period') \n",
    "axes[2].axvline(x = windown_position_lag, color='black', ls='--')\n",
    "axes[2].annotate(\"\", xy=(0, 1*annotation_location_4), xytext=(windown_position_lag, 1*annotation_location_4),\n",
    "    arrowprops=dict(arrowstyle=\"<|-|>\", connectionstyle=\"arc3\", ls='--', color='black'))\n",
    "axes[2].text(windown_position_lag*0.5, 1*annotation_location_4, 'Window size',\n",
    "            {'color': 'black', 'ha': 'center', 'va': 'bottom'})\n",
    "#axes[2].legend(loc=2)\n",
    "axes[2].set_ylabel('AC(1)')\n",
    "#axes[2].annotate('(c)', xy=(1-DIST, 0.95*np.max(df_ews_lag[[\"Lag-1 AC\"]])))\n",
    "\n",
    "foo_fig = plt.gcf()\n",
    "\n",
    "# set \"generateNow\" in previous cell\n",
    "if (generateNow):\n",
    "    os.chdir(path_written_to)\n",
    "    foo_fig.savefig((cityname + \"-Essential-new.png\"))"
   ]
  },
  {
   "cell_type": "code",
   "execution_count": 33,
   "metadata": {},
   "outputs": [
    {
     "data": {
      "image/png": "[encoded data removed]",
      "text/plain": [
       "<Figure size 360x400 with 2 Axes>"
      ]
     },
     "metadata": {},
     "output_type": "display_data"
    }
   ],
   "source": [
    "fig, ax = plt.subplots(figsize=(4.5,5))\n",
    "#fig = plt.figure(figsize=(10,8))\n",
    "plt.style.use('classic')\n",
    "\n",
    "#z = list(storage_lag)\n",
    "#z.insert(0, np.min(storage_lag))\n",
    "#ax.contour(bw, rw, np.array(z).reshape(30, 38), cmap=\"RdBu_r\")\n",
    "\n",
    "window, bandwith = zip(*TupList)\n",
    "x = window[1:]\n",
    "y = bandwith[1:]\n",
    "if np.max(storage_std)>np.max(storage_lag):\n",
    "    z = storage_std\n",
    "else:\n",
    "    z= storage_lag\n",
    "ax.tricontour(x, y, z, levels=14, linewidths=0.5, colors='k')\n",
    "cntr = ax.tricontourf(x, y, z, levels=14, cmap=\"RdBu_r\")\n",
    "fig.colorbar(cntr, ax=ax)\n",
    "ax.set(xlim=(0.2, 0.5), ylim=(20, 90))\n",
    "ax.set_ylabel('Smoothing bandwith', fontsize=12)\n",
    "ax.set_xlabel('Rolling Window Size', fontsize=12)\n",
    "\n",
    "foo_fig = plt.gcf()  # 'get current figure'\n",
    "# set \"generateNow\" in previous cell\n",
    "if (generateNow):\n",
    "    os.chdir(path_written_to)\n",
    "    foo_fig.savefig((cityname + \"-Essential_contour-new.png\"))"
   ]
  },
  {
   "cell_type": "code",
   "execution_count": 34,
   "metadata": {},
   "outputs": [
    {
     "data": {
      "image/png": "[encoded data removed]",
      "text/plain": [
       "<Figure size 240x400 with 1 Axes>"
      ]
     },
     "metadata": {},
     "output_type": "display_data"
    }
   ],
   "source": [
    "plt.style.use('classic')\n",
    "fig = plt.figure(figsize=(3,5))\n",
    "\n",
    "#z = list(storage_lag)\n",
    "#z.insert(0, np.min(storage_lag))\n",
    "#ax.contour(bw, rw, np.array(z).reshape(30, 38), cmap=\"RdBu_r\")\n",
    "\n",
    "if np.max(storage_std)>np.max(storage_lag):\n",
    "    a = storage_std\n",
    "    label = 'Std'\n",
    "else:\n",
    "    a= storage_lag\n",
    "    label = 'AC(1)'\n",
    "\n",
    "hist,bins = np.histogram(a,bins=40)\n",
    "\n",
    "plt.hist(a, bins = bins, color='grey')\n",
    "\n",
    "plt.xlabel('Kendall tau (' + label + ')')\n",
    "\n",
    "\n",
    "foo_fig = plt.gcf()  # 'get current figure'\n",
    "# set \"generateNow\" in previous cell\n",
    "if (generateNow):\n",
    "    os.chdir(path_written_to)\n",
    "    foo_fig.savefig((cityname + \"-Essential_histogram-new.png\"))"
   ]
  },
  {
   "cell_type": "markdown",
   "metadata": {},
   "source": [
    "## Here starts Non-essential"
   ]
  },
  {
   "cell_type": "code",
   "execution_count": 35,
   "metadata": {},
   "outputs": [
    {
     "name": "stdout",
     "output_type": "stream",
     "text": [
      "should print out two empty brakets below\n",
      "[]\n",
      "[]\n"
     ]
    }
   ],
   "source": [
    "# reset storage\n",
    "storage_std = np.array([])\n",
    "storage_lag = np.array([])\n",
    "print(\"should print out two empty brakets below\")\n",
    "print(storage_std)\n",
    "print(storage_lag)\n",
    "\n",
    "for i in range(len(TupList)):\n",
    "    ews_dic = core.ews_compute(cityWhole[\"NonEssential\"], roll_window = TupList[i][0],smooth ='Gaussian',band_width= TupList[i][1],span = span,lag_times = [1], ews = ews,upto = 'Full')\n",
    "    if i != 0:\n",
    "        storage_std = np.append( storage_std,ews_dic['Kendall tau'][\"Standard deviation\"][0])\n",
    "        storage_lag = np.append(storage_lag, ews_dic['Kendall tau'][\"Lag-1 AC\"][0])"
   ]
  },
  {
   "cell_type": "markdown",
   "metadata": {},
   "source": [
    "### I know they can be overriden, but just in case we reset all variables"
   ]
  },
  {
   "cell_type": "code",
   "execution_count": 36,
   "metadata": {},
   "outputs": [
    {
     "name": "stdout",
     "output_type": "stream",
     "text": [
      "0.8593894542090658\n",
      "0.8009049773755657\n"
     ]
    }
   ],
   "source": [
    "max_std = -100000000\n",
    "max_lag = -100000000\n",
    "max_std = np.amax(storage_std)\n",
    "max_lag = np.amax(storage_lag)\n",
    "print(max_std)\n",
    "print(max_lag)"
   ]
  },
  {
   "cell_type": "code",
   "execution_count": 37,
   "metadata": {},
   "outputs": [
    {
     "name": "stdout",
     "output_type": "stream",
     "text": [
      "1116\n",
      "1115\n",
      "1115\n"
     ]
    }
   ],
   "source": [
    "print(len(TupList))\n",
    "print(len(storage_std))\n",
    "print(len(storage_lag))"
   ]
  },
  {
   "cell_type": "markdown",
   "metadata": {},
   "source": [
    "PLUS 1 SINCE LENGTH IS DIFFERENT"
   ]
  },
  {
   "cell_type": "code",
   "execution_count": 38,
   "metadata": {},
   "outputs": [
    {
     "name": "stdout",
     "output_type": "stream",
     "text": [
      "*** max std located in pair ***\n",
      "index at : [1081 1083]\n",
      "tuple (rowing-windows,bandwidth): (0.5, 22.0)\n",
      "largest std kendall tau: 0.8593894542090658\n"
     ]
    }
   ],
   "source": [
    "# reset\n",
    "max_std_index = -10000000\n",
    "target_pair_std = (-10000000,-100000000)\n",
    "# compute\n",
    "print(\"*** max std located in pair ***\")\n",
    "max_std_index = np.where(storage_std == max_std) # find the largest element index\n",
    "print(\"index at : \" + str(max_std_index[0] + 1))\n",
    "target_pair_std = TupList[max_std_index[0][0] + 1]\n",
    "print(\"tuple (rowing-windows,bandwidth): \" + str(target_pair_std))\n",
    "print(\"largest std kendall tau: \" + str(max_std))"
   ]
  },
  {
   "cell_type": "code",
   "execution_count": 39,
   "metadata": {},
   "outputs": [
    {
     "name": "stdout",
     "output_type": "stream",
     "text": [
      "*** max lag located in pair ***\n",
      "index at : [866 902]\n",
      "tuple (rowing-windows,bandwidth): (0.44, 24.0)\n",
      "largest lag kendall tau: 0.8009049773755657\n"
     ]
    }
   ],
   "source": [
    "# reset\n",
    "max_lag_index = -1000000000\n",
    "target_pair_lag = (-1000000000,-1000000000)\n",
    "# compute\n",
    "print(\"*** max lag located in pair ***\")\n",
    "max_lag_index = np.where(storage_lag == max_lag)\n",
    "print(\"index at : \" + str(max_lag_index[0] + 1)) # set to the index zero when multiple results return because we try to have smaller rowing window\n",
    "target_pair_lag = TupList[max_lag_index[0][0] + 1]\n",
    "print(\"tuple (rowing-windows,bandwidth): \" + str(target_pair_lag))\n",
    "print(\"largest lag kendall tau: \" + str(max_lag))"
   ]
  },
  {
   "cell_type": "code",
   "execution_count": 40,
   "metadata": {},
   "outputs": [
    {
     "name": "stdout",
     "output_type": "stream",
     "text": [
      "std larger, select (0.5, 22.0)\n"
     ]
    }
   ],
   "source": [
    "selected_pair = ()\n",
    "if (max_lag > max_std):\n",
    "    selected_pair = target_pair_lag\n",
    "    print(\"lagAC larger, select \" + str(target_pair_lag))\n",
    "elif(max_lag < max_std):\n",
    "    selected_pair = target_pair_std\n",
    "    print(\"std larger, select \" + str(target_pair_std))\n",
    "else:\n",
    "    print(\"rare case!\")\n",
    "    selected_pair = target_pair_lag"
   ]
  },
  {
   "cell_type": "code",
   "execution_count": 41,
   "metadata": {},
   "outputs": [
    {
     "name": "stdout",
     "output_type": "stream",
     "text": [
      "setRW : 0.5\n",
      "setBW : 22.0\n"
     ]
    }
   ],
   "source": [
    "setRW = -10000000\n",
    "setBW = -10000000\n",
    "setRW = round(selected_pair[0],3)\n",
    "setBW = selected_pair[1]\n",
    "print(\"setRW : \" + str(setRW))\n",
    "print(\"setBW : \" + str(setBW))"
   ]
  },
  {
   "cell_type": "code",
   "execution_count": 42,
   "metadata": {},
   "outputs": [],
   "source": [
    "ews_dic = core.ews_compute(cityWhole[\"NonEssential\"], \n",
    "                          roll_window = setRW,\n",
    "                           smooth ='Gaussian',\n",
    "                           band_width=setBW,\n",
    "                          span = span,\n",
    "                          lag_times = [1], \n",
    "                          ews = ews,\n",
    "                          upto = 'Full')"
   ]
  },
  {
   "cell_type": "code",
   "execution_count": 43,
   "metadata": {},
   "outputs": [
    {
     "name": "stdout",
     "output_type": "stream",
     "text": [
      "setRW : 0.5\n",
      "setBW : 22.0\n"
     ]
    }
   ],
   "source": [
    "setRW = target_pair_std[0]\n",
    "setBW = target_pair_std[1]\n",
    "print(\"setRW : \" + str(setRW))\n",
    "print(\"setBW : \" + str(setBW))\n",
    "\n",
    "ews_dic_std = core.ews_compute(cityWhole[\"NonEssential\"], \n",
    "                          roll_window = setRW,\n",
    "                           smooth ='Gaussian',\n",
    "                           band_width= setBW,\n",
    "                          span = span,\n",
    "                          lag_times = [1], \n",
    "                          ews = ews,\n",
    "                          upto = 'Full')"
   ]
  },
  {
   "cell_type": "code",
   "execution_count": 44,
   "metadata": {},
   "outputs": [
    {
     "name": "stdout",
     "output_type": "stream",
     "text": [
      "setRW : 0.44\n",
      "setBW : 24.0\n"
     ]
    }
   ],
   "source": [
    "setRW = target_pair_lag[0]\n",
    "setBW = target_pair_lag[1]\n",
    "print(\"setRW : \" + str(setRW))\n",
    "print(\"setBW : \" + str(setBW))\n",
    "\n",
    "ews_dic_lag = core.ews_compute(cityWhole[\"NonEssential\"], \n",
    "                          roll_window = setRW,\n",
    "                           smooth ='Gaussian',\n",
    "                           band_width= setBW,\n",
    "                          span = span,\n",
    "                          lag_times = [1], \n",
    "                          ews = ews,\n",
    "                          upto = 'Full')"
   ]
  },
  {
   "cell_type": "code",
   "execution_count": 45,
   "metadata": {},
   "outputs": [],
   "source": [
    "# dfs\n",
    "df_ews_std = ews_dic_std['EWS metrics']\n",
    "df_ktau_std = ews_dic_std['Kendall tau']\n",
    "\n",
    "df_ews_lag = ews_dic_lag['EWS metrics']\n",
    "df_ktau_lag = ews_dic_lag['Kendall tau']\n",
    "\n",
    "df_ews = ews_dic['EWS metrics']"
   ]
  },
  {
   "cell_type": "code",
   "execution_count": 46,
   "metadata": {},
   "outputs": [],
   "source": [
    "#  reset\n",
    "annotation_location_1 = -10000000\n",
    "annotation_location_2 = -10000000\n",
    "annotation_location_3 = -10000000\n",
    "annotation_location_4 = -10000000\n",
    "\n",
    "# location of annotation for the 1st graph\n",
    "annotation_location_1 = np.mean(df_ews[[\"State variable\"]])\n",
    "annotation_location_2 = np.mean(df_ews[[\"Residuals\"]])\n",
    "# location of annotations for the 2nd graph\n",
    "annotation_location_3 = np.mean(df_ews_std[\"Standard deviation\"])\n",
    "# location of annotations for the 3rd graph\n",
    "annotation_location_4 = np.mean(df_ews_lag[\"Lag-1 AC\"])"
   ]
  },
  {
   "cell_type": "code",
   "execution_count": 47,
   "metadata": {},
   "outputs": [],
   "source": [
    "# 2 parameter: you may want to change these two\n",
    "LegendTF = False\n",
    "generateNow = True\n",
    "\n",
    "# set the early warning (gray)band using the variables below \n",
    "\n",
    "# Action Required: the start and the end of band in first graph\n",
    "bar_start_1 = 56 # need modification\n",
    "bar_end_1 = 58 # need modification\n",
    "\n",
    "\n",
    "# Action Required: the start and the end of band in 2nd graph\n",
    "bar_start_2 = 57 # need modification\n",
    "bar_end_2 = 59 # need modification\n",
    "\n",
    "\n",
    "# Action Required: the start and the end of band in 3rd graph\n",
    "bar_start_3 = 56 # need modification\n",
    "bar_end_3 = 58 # need modification"
   ]
  },
  {
   "cell_type": "code",
   "execution_count": 48,
   "metadata": {},
   "outputs": [
    {
     "data": {
      "text/plain": [
       "Date            2020-02-26\n",
       "Essential            43404\n",
       "NonEssential        203009\n",
       "Name: 56, dtype: object"
      ]
     },
     "execution_count": 48,
     "metadata": {},
     "output_type": "execute_result"
    }
   ],
   "source": [
    "cityWhole.loc[56]"
   ]
  },
  {
   "cell_type": "code",
   "execution_count": 49,
   "metadata": {},
   "outputs": [
    {
     "data": {
      "image/png": "[encoded data removed]",
      "text/plain": [
       "<Figure size 560x400 with 3 Axes>"
      ]
     },
     "metadata": {},
     "output_type": "display_data"
    }
   ],
   "source": [
    "# the dates and string of first case, first death , shelter in place order are set at the beginning in the notebook\n",
    "# parameter needs to be set are in the previous cell\n",
    "\n",
    "# constants , you don't need to change them\n",
    "ZERO = 0\n",
    "DIST = 5\n",
    "ALPHA = 0.7\n",
    "NROWS = 3\n",
    "NCOLS = 1\n",
    "\n",
    "# plots\n",
    "# constant, you don't need to change them, but if you want to you can change ALPHA OR DIST \n",
    "ALPHA = 0.3\n",
    "DIST = 5\n",
    "ZERO = 0\n",
    "NROWS = 3\n",
    "NCOLS = 1\n",
    "windown_position_std = int(target_pair_std[0]*total_days-1)\n",
    "windown_position_lag = int(target_pair_lag[0]*total_days-1)\n",
    "# title = (\"Essential Early warning signals for city \" + cityname)\n",
    "# No action require below\n",
    "plt.style.use('classic')\n",
    "fig1, axes = plt.subplots(nrows = NROWS, ncols = NCOLS, figsize=(7,5))\n",
    "df_ews[['State variable']].plot(ax=axes[0], \n",
    "        color='black', xlim = (-DIST,total_days + DIST),legend = LegendTF,\n",
    "        marker='o', markersize=3) # frame auto set\n",
    "df_ews[['Smoothing']].plot(ax=axes[0], color='red', xlim = (-DIST,total_days + DIST),legend = LegendTF)\n",
    "df_ews[['Residuals']].plot(ax=axes[0], color='blue', xlim = (-DIST,total_days + DIST),legend = LegendTF,\n",
    "                            marker='o', markersize=3, linestyle='dashed') # frame auto set\n",
    "#axes[0].axvline(x = case_num, color='red', label='First case')\n",
    "#axes[0].axvline(x = death_num, color='yellow')\n",
    "#axes[0].axvline(x = shelter_num, color='yellow', label='Shelter in place')\n",
    "#axes[0].annotate('First Case' +'\\n'+ first_case, xy=((case_num + DIST), annotation_location_2)) # location auto set\n",
    "#axes[0].annotate('First Death'+'\\n'+ first_death, xy=((death_num - DIST), annotation_location_2)) # location auto set\n",
    "#axes[0].annotate('Shelter in Place'+'\\n'+ shelter, xy=((shelter_num + DIST), annotation_location_1)) # location auto set\n",
    "#axes[0].axvspan(bar_start_1, bar_end_1, alpha=ALPHA, color='gray')\n",
    "#axes[0].legend(loc=3, ncol=3)\n",
    "axes[0].set_ylabel('Visits', fontsize=14)\n",
    "axes[0].ticklabel_format(axis='y', style='sci', scilimits=(0,0))\n",
    "#axes[0].annotate('(d)', xy=(1 - DIST, 0.8*np.max(df_ews[[\"State variable\"]])))\n",
    "\n",
    "\n",
    "\n",
    "\n",
    "df_ews_std['Standard deviation'].plot(ax=axes[1],legend=False, xlim = (-DIST,total_days+DIST),\n",
    "                                      color=\"black\", marker='o', markersize=3, ls='--', markerfacecolor='none') # frame auto set\n",
    "axes[1].axvline(x = case_num, color='red')\n",
    "#axes[1].axvline(x = death_num, color='purple')\n",
    "axes[1].axvline(x = shelter_num, color='blue')\n",
    "axes[1].annotate(\"Kendall tau:\" + str(round(df_ktau_std[\"Standard deviation\"][0],4)), xy=(ZERO, 0.85*annotation_location_3)) # location auto set\n",
    "#axes[1].annotate('First Case' +'\\n'+ first_case, xy=((case_num + DIST), annotation_location_3)) # location auto set\n",
    "#axes[1].annotate('First Death'+'\\n'+ first_death, xy=((death_num - DIST), annotation_location_3)) # location auto set\n",
    "#axes[1].annotate('Shelter in Place'+'\\n'+ shelter, xy=((shelter_num + DIST), annotation_location_3)) # location auto set\n",
    "axes[1].axvspan(bar_start_2, bar_end_2, alpha = ALPHA, color='gray', label='Early Warning Period')\n",
    "axes[1].axvline(x = windown_position_std, color='black', ls='--')\n",
    "axes[1].annotate(\"\", xy=(0, 1.1*annotation_location_3), xytext=(windown_position_std, 1.1*annotation_location_3),\n",
    "    arrowprops=dict(arrowstyle=\"<|-|>\", connectionstyle=\"arc3\", ls='--',color='black'))\n",
    "axes[1].text(windown_position_std*0.5, 1.1*annotation_location_3, 'Window size',\n",
    "            {'color': 'black', 'ha': 'center', 'va': 'bottom'})\n",
    "#axes[1].legend(loc=2, ncol=1)\n",
    "axes[1].set_ylabel('Std', fontsize=14)\n",
    "#axes[1].annotate('(e)', xy=(1 - DIST, 0.9*np.max(df_ews_std[[\"Standard deviation\"]])))\n",
    "\n",
    "\n",
    "\n",
    "\n",
    "df_ews_lag[['Lag-1 AC']].plot(ax=axes[2],legend=False, xlim = (-DIST,total_days+DIST),\n",
    "                             color=\"black\", marker='s', markersize=3, ls='--', markerfacecolor='none') # frame auto set\n",
    "axes[2].axvline(x = case_num, color='red')\n",
    "#axes[2].axvline(x = death_num, color='purple')\n",
    "axes[2].axvline(x = shelter_num, color='blue')\n",
    "axes[2].annotate(\"Kendall tau: \" + str(round(df_ktau_lag[\"Lag-1 AC\"][0],4)),xy=(ZERO, annotation_location_4*0.6)) # location auto set\n",
    "\n",
    "#axes[2].annotate('First Case' +'\\n'+ first_case, xy=((case_num + DIST), annotation_location_4)) # location auto set\n",
    "#axes[2].annotate('First Death'+'\\n'+ first_death, xy=((death_num - DIST), annotation_location_4)) # location auto set\n",
    "#axes[2].annotate('Shelter in Place'+'\\n'+ shelter, xy=((shelter_num + DIST), annotation_location_4)) # location auto set\n",
    "axes[2].axvspan(bar_start_3, bar_end_3, alpha = ALPHA, color='gray', label='Early Warning Period') \n",
    "axes[2].axvline(x = windown_position_lag, color='black', ls='--')\n",
    "axes[2].annotate(\"\", xy=(0, 1.1*annotation_location_4), xytext=(windown_position_lag, 1.1*annotation_location_4),\n",
    "    arrowprops=dict(arrowstyle=\"<|-|>\", connectionstyle=\"arc3\", ls='--', color='black'))\n",
    "axes[2].text(windown_position_lag*0.5, 1.1*annotation_location_4, 'Window size',\n",
    "            {'color': 'black', 'ha': 'center', 'va': 'bottom'})\n",
    "#axes[2].legend(loc=2)\n",
    "axes[2].set_ylabel('AC(1)')\n",
    "#axes[2].annotate('(f)', xy=(1-DIST, 0.85*np.max(df_ews_lag[[\"Lag-1 AC\"]])))\n",
    "\n",
    "foo_fig = plt.gcf()  # 'get current figure'\n",
    "\n",
    "\n",
    "# set \"generateNow\" in previous cell\n",
    "if (generateNow):\n",
    "    os.chdir(path_written_to)\n",
    "    foo_fig.savefig((cityname + \"-NonEssential-new.png\"))"
   ]
  },
  {
   "cell_type": "code",
   "execution_count": 50,
   "metadata": {},
   "outputs": [
    {
     "data": {
      "image/png": "[encoded data removed]",
      "text/plain": [
       "<Figure size 360x400 with 2 Axes>"
      ]
     },
     "metadata": {},
     "output_type": "display_data"
    }
   ],
   "source": [
    "fig, ax = plt.subplots(figsize=(4.5,5))\n",
    "#fig = plt.figure(figsize=(10,8))\n",
    "plt.style.use('classic')\n",
    "\n",
    "#z = list(storage_lag)\n",
    "#z.insert(0, np.min(storage_lag))\n",
    "#ax.contour(bw, rw, np.array(z).reshape(30, 38), cmap=\"RdBu_r\")\n",
    "\n",
    "window, bandwith = zip(*TupList)\n",
    "x = window[1:]\n",
    "y = bandwith[1:]\n",
    "if np.max(storage_std)>np.max(storage_lag):\n",
    "    z = storage_std\n",
    "else:\n",
    "    z= storage_lag\n",
    "ax.tricontour(x, y, z, levels=14, linewidths=0.5, colors='k')\n",
    "cntr = ax.tricontourf(x, y, z, levels=14, cmap=\"RdBu_r\")\n",
    "fig.colorbar(cntr, ax=ax)\n",
    "ax.set(xlim=(0.2, 0.5), ylim=(20, 90))\n",
    "ax.set_ylabel('Smoothing bandwith', fontsize=12)\n",
    "ax.set_xlabel('Rolling Window Size', fontsize=12)\n",
    "\n",
    "foo_fig = plt.gcf()  # 'get current figure'\n",
    "# set \"generateNow\" in previous cell\n",
    "if (generateNow):\n",
    "    os.chdir(path_written_to)\n",
    "    foo_fig.savefig((cityname + \"-NonEssential_contour-new.png\"))"
   ]
  },
  {
   "cell_type": "code",
   "execution_count": 51,
   "metadata": {},
   "outputs": [
    {
     "data": {
      "image/png": "[encoded data removed]",
      "text/plain": [
       "<Figure size 240x400 with 1 Axes>"
      ]
     },
     "metadata": {},
     "output_type": "display_data"
    }
   ],
   "source": [
    "plt.style.use('classic')\n",
    "fig = plt.figure(figsize=(3,5))\n",
    "\n",
    "#z = list(storage_lag)\n",
    "#z.insert(0, np.min(storage_lag))\n",
    "#ax.contour(bw, rw, np.array(z).reshape(30, 38), cmap=\"RdBu_r\")\n",
    "\n",
    "if np.max(storage_std)>np.max(storage_lag):\n",
    "    a = storage_std\n",
    "    label = 'Std'\n",
    "else:\n",
    "    a= storage_lag\n",
    "    label = 'AC(1)'\n",
    "\n",
    "hist,bins = np.histogram(a,bins=40)\n",
    "\n",
    "plt.hist(a, bins = bins, color='grey')\n",
    "\n",
    "plt.xlabel('Kendall tau (' + label + ')')\n",
    "\n",
    "\n",
    "foo_fig = plt.gcf()  # 'get current figure'\n",
    "# set \"generateNow\" in previous cell\n",
    "if (generateNow):\n",
    "    os.chdir(path_written_to)\n",
    "    foo_fig.savefig((cityname + \"-NonEssential_histogram-new.png\"))\n"
   ]
  },
  {
   "cell_type": "code",
   "execution_count": 340,
   "metadata": {},
   "outputs": [
    {
     "name": "stdout",
     "output_type": "stream",
     "text": [
      "Help on function ews_compute in module ewstools.core:\n",
      "\n",
      "ews_compute(raw_series, roll_window=0.4, smooth='Lowess', span=0.1, band_width=0.2, upto='Full', ews=['var', 'ac'], lag_times=[1], ham_length=40, ham_offset=0.5, pspec_roll_offset=20, w_cutoff=1, aic=['Fold', 'Hopf', 'Null'], sweep=False)\n",
      "    Compute temporal and spectral EWS from time-series data.\n",
      "    \n",
      "    Args\n",
      "    ----\n",
      "    raw_series: pd.Series\n",
      "        Time-series data to analyse. Indexed by time.\n",
      "    roll_window: float\n",
      "        Rolling window size as a proportion of the length of the time-series \n",
      "        data.\n",
      "    smooth: {'Gaussian', 'Lowess', 'None'}\n",
      "        Type of detrending.\n",
      "    band_width: float\n",
      "        Bandwidth of Gaussian kernel. Taken as a proportion of time-series length if in (0,1), \n",
      "        otherwise taken as absolute.\n",
      "    span: float\n",
      "        Span of time-series data used for Lowess filtering. Taken as a \n",
      "        proportion of time-series length if in (0,1), otherwise taken as \n",
      "        absolute.\n",
      "    upto: int or 'Full'\n",
      "        Time up to which EWS are computed. Enter 'Full' to use\n",
      "        the entire time-series. Otherwise enter a time value.\n",
      "    ews: list of {'var', 'ac', 'sd', 'cv', 'skew', 'kurt', 'smax', 'cf', 'aic', 'smax/var', 'smax/mean'}\n",
      "                 List of EWS to compute. Options include variance ('var'),\n",
      "                 autocorrelation ('ac'), standard deviation ('sd'), coefficient\n",
      "                 of variation ('cv'), skewness ('skew'), kurtosis ('kurt'), peak in\n",
      "                 the power spectrum ('smax'), coherence factor ('cf'), AIC weights ('aic'),\n",
      "         ratio of peak in power spectrum and variance ('smax/var'), ratio of\n",
      "         peak in power spectrum and mean of time series (smax/mean')\n",
      "    lag_times: list of int\n",
      "        List of lag times at which to compute autocorrelation.\n",
      "    ham_length: int\n",
      "        Length of the Hamming window used to compute the power spectrum.\n",
      "    ham_offset: float\n",
      "        Hamming offset as a proportion of the Hamming window size.\n",
      "    pspec_roll_offset: int\n",
      "        Rolling window offset used when computing power spectra. Power spectrum \n",
      "        computation is relatively expensive so this is rarely taken as 1 \n",
      "        (as is the case for the other EWS).\n",
      "    w_cutoff: float\n",
      "        Cutoff frequency used in power spectrum. Given as a proportion of the \n",
      "        maximum permissable frequency in the empirical power spectrum.\n",
      "    aic: AIC values to compute\n",
      "    sweep: bool\n",
      "        If 'True', sweep over a range of intialisation \n",
      "        parameters when optimising to compute AIC scores, at the expense of \n",
      "        longer computation. If 'False', intialisation parameter is taken as the\n",
      "        'best guess'.\n",
      "    \n",
      "    Returns\n",
      "    --------\n",
      "    dict of pd.DataFrames:\n",
      "        A dictionary with the following entries.\n",
      "        **'EWS metrics':** A DataFrame indexed by time with columns corresopnding \n",
      "        to each EWS.\n",
      "        **'Power spectrum':** A DataFrame of the measured power spectra and the best fits \n",
      "        used to give the AIC weights. Indexed by time. \n",
      "        **'Kendall tau':** A DataFrame of the Kendall tau values for each EWS metric.\n",
      "\n"
     ]
    }
   ],
   "source": [
    "help(core.ews_compute)"
   ]
  },
  {
   "cell_type": "code",
   "execution_count": null,
   "metadata": {},
   "outputs": [],
   "source": []
  }
 ],
 "metadata": {
  "kernelspec": {
   "display_name": "Python 3",
   "language": "python",
   "name": "python3"
  },
  "language_info": {
   "codemirror_mode": {
    "name": "ipython",
    "version": 3
   },
   "file_extension": ".py",
   "mimetype": "text/x-python",
   "name": "python",
   "nbconvert_exporter": "python",
   "pygments_lexer": "ipython3",
   "version": "3.6.10"
  }
 },
 "nbformat": 4,
 "nbformat_minor": 4
}
