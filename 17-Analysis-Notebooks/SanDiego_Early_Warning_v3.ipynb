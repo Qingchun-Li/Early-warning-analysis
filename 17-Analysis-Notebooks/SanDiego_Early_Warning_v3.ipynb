{
 "cells": [
  {
   "cell_type": "code",
   "execution_count": 2,
   "metadata": {},
   "outputs": [],
   "source": [
    "import pandas as pd\n",
    "import numpy as np\n",
    "import os\n",
    "import matplotlib.pyplot as plt\n",
    "import seaborn as sns\n",
    "from ewstools import core\n",
    "import itertools"
   ]
  },
  {
   "cell_type": "code",
   "execution_count": 3,
   "metadata": {},
   "outputs": [],
   "source": [
    "# set your path\n",
    "path_from = \"C:\\\\Users\\\\evely\\\\OneDrive\\\\CivilEngineeringCOVID\\\\week-June-22-EarlyWarning\\\\SanDiego\"\n",
    "path_written_to = \"C:\\\\Users\\\\evely\\\\OneDrive\\\\CivilEngineeringCOVID\\\\week-June-22-EarlyWarning\\\\SanDiego\""
   ]
  },
  {
   "cell_type": "code",
   "execution_count": 4,
   "metadata": {},
   "outputs": [],
   "source": [
    "cityname = \"SanDiego\""
   ]
  },
  {
   "cell_type": "code",
   "execution_count": 5,
   "metadata": {},
   "outputs": [],
   "source": [
    "input_jan = \"sandiego-time-series-Jan.csv\"\n",
    "input_feb = \"sandiego-time-series-Feb.csv\"\n",
    "input_mar = \"sandiego-time-series-Mar.csv\""
   ]
  },
  {
   "cell_type": "code",
   "execution_count": 6,
   "metadata": {},
   "outputs": [],
   "source": [
    "# first case, death, shelter in place\n",
    "\n",
    "first_case = \"Feb. 14th\"\n",
    "first_death = \"Mar. 22nd\"\n",
    "shelter = \"Mar. 19th\"\n",
    "\n",
    "# start from zero, since the graph has zero\n",
    "case_num = 31 + 14 - 1\n",
    "death_num = 31 + 29 + 22 - 1\n",
    "shelter_num = 31 + 29 + 19 - 1"
   ]
  },
  {
   "cell_type": "code",
   "execution_count": 7,
   "metadata": {},
   "outputs": [],
   "source": [
    "# set the starting value, ending value and step for bandwidth and rowing window\n",
    "bw_start = 15\n",
    "bw_end = 90\n",
    "bw_step = 2\n",
    "rw_start = 0.2\n",
    "rw_end = 0.5\n",
    "rw_step = 0.01\n",
    "\n",
    "\n",
    "# move forward\n",
    "span = 0.25\n",
    "lags = [1] \n",
    "ews = ['sd','ac'] "
   ]
  },
  {
   "cell_type": "code",
   "execution_count": 8,
   "metadata": {},
   "outputs": [
    {
     "data": {
      "text/plain": [
       "'C:\\\\Users\\\\evely\\\\OneDrive\\\\CivilEngineeringCOVID\\\\week-June-22-EarlyWarning\\\\SanDiego'"
      ]
     },
     "execution_count": 8,
     "metadata": {},
     "output_type": "execute_result"
    }
   ],
   "source": [
    "os.chdir(path_from)\n",
    "os.getcwd()"
   ]
  },
  {
   "cell_type": "code",
   "execution_count": 9,
   "metadata": {},
   "outputs": [
    {
     "name": "stdout",
     "output_type": "stream",
     "text": [
      "Index(['Unnamed: 0', 'Date', 'Essential', 'NonEssential'], dtype='object')\n"
     ]
    }
   ],
   "source": [
    "# read\n",
    "df1 = pd.read_csv(input_jan)\n",
    "print(df1.columns)"
   ]
  },
  {
   "cell_type": "code",
   "execution_count": 10,
   "metadata": {},
   "outputs": [],
   "source": [
    "# drop the index column\n",
    "df1 = df1.drop('Unnamed: 0',axis=1)"
   ]
  },
  {
   "cell_type": "code",
   "execution_count": 11,
   "metadata": {},
   "outputs": [
    {
     "data": {
      "text/html": [
       "<div>\n",
       "<style scoped>\n",
       "    .dataframe tbody tr th:only-of-type {\n",
       "        vertical-align: middle;\n",
       "    }\n",
       "\n",
       "    .dataframe tbody tr th {\n",
       "        vertical-align: top;\n",
       "    }\n",
       "\n",
       "    .dataframe thead th {\n",
       "        text-align: right;\n",
       "    }\n",
       "</style>\n",
       "<table border=\"1\" class=\"dataframe\">\n",
       "  <thead>\n",
       "    <tr style=\"text-align: right;\">\n",
       "      <th></th>\n",
       "      <th>Date</th>\n",
       "      <th>Essential</th>\n",
       "      <th>NonEssential</th>\n",
       "    </tr>\n",
       "  </thead>\n",
       "  <tbody>\n",
       "    <tr>\n",
       "      <th>0</th>\n",
       "      <td>2020-01-01</td>\n",
       "      <td>11106</td>\n",
       "      <td>106439</td>\n",
       "    </tr>\n",
       "    <tr>\n",
       "      <th>1</th>\n",
       "      <td>2020-01-02</td>\n",
       "      <td>19152</td>\n",
       "      <td>134201</td>\n",
       "    </tr>\n",
       "    <tr>\n",
       "      <th>2</th>\n",
       "      <td>2020-01-03</td>\n",
       "      <td>19659</td>\n",
       "      <td>146457</td>\n",
       "    </tr>\n",
       "    <tr>\n",
       "      <th>3</th>\n",
       "      <td>2020-01-04</td>\n",
       "      <td>15972</td>\n",
       "      <td>138288</td>\n",
       "    </tr>\n",
       "    <tr>\n",
       "      <th>4</th>\n",
       "      <td>2020-01-05</td>\n",
       "      <td>14490</td>\n",
       "      <td>117792</td>\n",
       "    </tr>\n",
       "    <tr>\n",
       "      <th>5</th>\n",
       "      <td>2020-01-06</td>\n",
       "      <td>20082</td>\n",
       "      <td>130238</td>\n",
       "    </tr>\n",
       "    <tr>\n",
       "      <th>6</th>\n",
       "      <td>2020-01-07</td>\n",
       "      <td>20534</td>\n",
       "      <td>134232</td>\n",
       "    </tr>\n",
       "    <tr>\n",
       "      <th>7</th>\n",
       "      <td>2020-01-08</td>\n",
       "      <td>21131</td>\n",
       "      <td>139215</td>\n",
       "    </tr>\n",
       "    <tr>\n",
       "      <th>8</th>\n",
       "      <td>2020-01-09</td>\n",
       "      <td>20841</td>\n",
       "      <td>139934</td>\n",
       "    </tr>\n",
       "    <tr>\n",
       "      <th>9</th>\n",
       "      <td>2020-01-10</td>\n",
       "      <td>22019</td>\n",
       "      <td>159679</td>\n",
       "    </tr>\n",
       "    <tr>\n",
       "      <th>10</th>\n",
       "      <td>2020-01-11</td>\n",
       "      <td>17709</td>\n",
       "      <td>151251</td>\n",
       "    </tr>\n",
       "    <tr>\n",
       "      <th>11</th>\n",
       "      <td>2020-01-12</td>\n",
       "      <td>15351</td>\n",
       "      <td>124656</td>\n",
       "    </tr>\n",
       "    <tr>\n",
       "      <th>12</th>\n",
       "      <td>2020-01-13</td>\n",
       "      <td>19008</td>\n",
       "      <td>123398</td>\n",
       "    </tr>\n",
       "    <tr>\n",
       "      <th>13</th>\n",
       "      <td>2020-01-14</td>\n",
       "      <td>18748</td>\n",
       "      <td>124758</td>\n",
       "    </tr>\n",
       "    <tr>\n",
       "      <th>14</th>\n",
       "      <td>2020-01-15</td>\n",
       "      <td>21092</td>\n",
       "      <td>139552</td>\n",
       "    </tr>\n",
       "    <tr>\n",
       "      <th>15</th>\n",
       "      <td>2020-01-16</td>\n",
       "      <td>19662</td>\n",
       "      <td>131284</td>\n",
       "    </tr>\n",
       "    <tr>\n",
       "      <th>16</th>\n",
       "      <td>2020-01-17</td>\n",
       "      <td>19308</td>\n",
       "      <td>142951</td>\n",
       "    </tr>\n",
       "    <tr>\n",
       "      <th>17</th>\n",
       "      <td>2020-01-18</td>\n",
       "      <td>17647</td>\n",
       "      <td>145504</td>\n",
       "    </tr>\n",
       "    <tr>\n",
       "      <th>18</th>\n",
       "      <td>2020-01-19</td>\n",
       "      <td>15359</td>\n",
       "      <td>123183</td>\n",
       "    </tr>\n",
       "    <tr>\n",
       "      <th>19</th>\n",
       "      <td>2020-01-20</td>\n",
       "      <td>17218</td>\n",
       "      <td>116361</td>\n",
       "    </tr>\n",
       "    <tr>\n",
       "      <th>20</th>\n",
       "      <td>2020-01-21</td>\n",
       "      <td>18747</td>\n",
       "      <td>123800</td>\n",
       "    </tr>\n",
       "    <tr>\n",
       "      <th>21</th>\n",
       "      <td>2020-01-22</td>\n",
       "      <td>20101</td>\n",
       "      <td>133686</td>\n",
       "    </tr>\n",
       "    <tr>\n",
       "      <th>22</th>\n",
       "      <td>2020-01-23</td>\n",
       "      <td>19545</td>\n",
       "      <td>134914</td>\n",
       "    </tr>\n",
       "    <tr>\n",
       "      <th>23</th>\n",
       "      <td>2020-01-24</td>\n",
       "      <td>20565</td>\n",
       "      <td>150838</td>\n",
       "    </tr>\n",
       "    <tr>\n",
       "      <th>24</th>\n",
       "      <td>2020-01-25</td>\n",
       "      <td>14518</td>\n",
       "      <td>126116</td>\n",
       "    </tr>\n",
       "    <tr>\n",
       "      <th>25</th>\n",
       "      <td>2020-01-26</td>\n",
       "      <td>14157</td>\n",
       "      <td>112194</td>\n",
       "    </tr>\n",
       "    <tr>\n",
       "      <th>26</th>\n",
       "      <td>2020-01-27</td>\n",
       "      <td>19871</td>\n",
       "      <td>129084</td>\n",
       "    </tr>\n",
       "    <tr>\n",
       "      <th>27</th>\n",
       "      <td>2020-01-28</td>\n",
       "      <td>17785</td>\n",
       "      <td>120604</td>\n",
       "    </tr>\n",
       "    <tr>\n",
       "      <th>28</th>\n",
       "      <td>2020-01-29</td>\n",
       "      <td>18074</td>\n",
       "      <td>123752</td>\n",
       "    </tr>\n",
       "    <tr>\n",
       "      <th>29</th>\n",
       "      <td>2020-01-30</td>\n",
       "      <td>19993</td>\n",
       "      <td>136639</td>\n",
       "    </tr>\n",
       "    <tr>\n",
       "      <th>30</th>\n",
       "      <td>2020-01-31</td>\n",
       "      <td>21257</td>\n",
       "      <td>152091</td>\n",
       "    </tr>\n",
       "  </tbody>\n",
       "</table>\n",
       "</div>"
      ],
      "text/plain": [
       "          Date  Essential  NonEssential\n",
       "0   2020-01-01      11106        106439\n",
       "1   2020-01-02      19152        134201\n",
       "2   2020-01-03      19659        146457\n",
       "3   2020-01-04      15972        138288\n",
       "4   2020-01-05      14490        117792\n",
       "5   2020-01-06      20082        130238\n",
       "6   2020-01-07      20534        134232\n",
       "7   2020-01-08      21131        139215\n",
       "8   2020-01-09      20841        139934\n",
       "9   2020-01-10      22019        159679\n",
       "10  2020-01-11      17709        151251\n",
       "11  2020-01-12      15351        124656\n",
       "12  2020-01-13      19008        123398\n",
       "13  2020-01-14      18748        124758\n",
       "14  2020-01-15      21092        139552\n",
       "15  2020-01-16      19662        131284\n",
       "16  2020-01-17      19308        142951\n",
       "17  2020-01-18      17647        145504\n",
       "18  2020-01-19      15359        123183\n",
       "19  2020-01-20      17218        116361\n",
       "20  2020-01-21      18747        123800\n",
       "21  2020-01-22      20101        133686\n",
       "22  2020-01-23      19545        134914\n",
       "23  2020-01-24      20565        150838\n",
       "24  2020-01-25      14518        126116\n",
       "25  2020-01-26      14157        112194\n",
       "26  2020-01-27      19871        129084\n",
       "27  2020-01-28      17785        120604\n",
       "28  2020-01-29      18074        123752\n",
       "29  2020-01-30      19993        136639\n",
       "30  2020-01-31      21257        152091"
      ]
     },
     "execution_count": 11,
     "metadata": {},
     "output_type": "execute_result"
    }
   ],
   "source": [
    "# schema of the data frame\n",
    "df1"
   ]
  },
  {
   "cell_type": "code",
   "execution_count": 12,
   "metadata": {},
   "outputs": [
    {
     "name": "stdout",
     "output_type": "stream",
     "text": [
      "(29, 3)\n",
      "(31, 3)\n"
     ]
    }
   ],
   "source": [
    "df2 = pd.read_csv(input_feb)\n",
    "df2 = df2.drop('Unnamed: 0',axis=1)\n",
    "df3 = pd.read_csv(input_mar)\n",
    "df3 = df3.drop('Unnamed: 0',axis=1)\n",
    "print(df2.shape)\n",
    "print(df3.shape)"
   ]
  },
  {
   "cell_type": "code",
   "execution_count": 13,
   "metadata": {},
   "outputs": [
    {
     "data": {
      "text/html": [
       "<div>\n",
       "<style scoped>\n",
       "    .dataframe tbody tr th:only-of-type {\n",
       "        vertical-align: middle;\n",
       "    }\n",
       "\n",
       "    .dataframe tbody tr th {\n",
       "        vertical-align: top;\n",
       "    }\n",
       "\n",
       "    .dataframe thead th {\n",
       "        text-align: right;\n",
       "    }\n",
       "</style>\n",
       "<table border=\"1\" class=\"dataframe\">\n",
       "  <thead>\n",
       "    <tr style=\"text-align: right;\">\n",
       "      <th></th>\n",
       "      <th>Date</th>\n",
       "      <th>Essential</th>\n",
       "      <th>NonEssential</th>\n",
       "    </tr>\n",
       "  </thead>\n",
       "  <tbody>\n",
       "    <tr>\n",
       "      <th>0</th>\n",
       "      <td>2020-01-01</td>\n",
       "      <td>11106</td>\n",
       "      <td>106439</td>\n",
       "    </tr>\n",
       "    <tr>\n",
       "      <th>1</th>\n",
       "      <td>2020-01-02</td>\n",
       "      <td>19152</td>\n",
       "      <td>134201</td>\n",
       "    </tr>\n",
       "    <tr>\n",
       "      <th>2</th>\n",
       "      <td>2020-01-03</td>\n",
       "      <td>19659</td>\n",
       "      <td>146457</td>\n",
       "    </tr>\n",
       "    <tr>\n",
       "      <th>3</th>\n",
       "      <td>2020-01-04</td>\n",
       "      <td>15972</td>\n",
       "      <td>138288</td>\n",
       "    </tr>\n",
       "    <tr>\n",
       "      <th>4</th>\n",
       "      <td>2020-01-05</td>\n",
       "      <td>14490</td>\n",
       "      <td>117792</td>\n",
       "    </tr>\n",
       "    <tr>\n",
       "      <th>...</th>\n",
       "      <td>...</td>\n",
       "      <td>...</td>\n",
       "      <td>...</td>\n",
       "    </tr>\n",
       "    <tr>\n",
       "      <th>86</th>\n",
       "      <td>2020-03-27</td>\n",
       "      <td>9602</td>\n",
       "      <td>43164</td>\n",
       "    </tr>\n",
       "    <tr>\n",
       "      <th>87</th>\n",
       "      <td>2020-03-28</td>\n",
       "      <td>8057</td>\n",
       "      <td>38555</td>\n",
       "    </tr>\n",
       "    <tr>\n",
       "      <th>88</th>\n",
       "      <td>2020-03-29</td>\n",
       "      <td>13210</td>\n",
       "      <td>97643</td>\n",
       "    </tr>\n",
       "    <tr>\n",
       "      <th>89</th>\n",
       "      <td>2020-03-30</td>\n",
       "      <td>9792</td>\n",
       "      <td>44771</td>\n",
       "    </tr>\n",
       "    <tr>\n",
       "      <th>90</th>\n",
       "      <td>2020-03-31</td>\n",
       "      <td>7163</td>\n",
       "      <td>28904</td>\n",
       "    </tr>\n",
       "  </tbody>\n",
       "</table>\n",
       "<p>91 rows × 3 columns</p>\n",
       "</div>"
      ],
      "text/plain": [
       "          Date  Essential  NonEssential\n",
       "0   2020-01-01      11106        106439\n",
       "1   2020-01-02      19152        134201\n",
       "2   2020-01-03      19659        146457\n",
       "3   2020-01-04      15972        138288\n",
       "4   2020-01-05      14490        117792\n",
       "..         ...        ...           ...\n",
       "86  2020-03-27       9602         43164\n",
       "87  2020-03-28       8057         38555\n",
       "88  2020-03-29      13210         97643\n",
       "89  2020-03-30       9792         44771\n",
       "90  2020-03-31       7163         28904\n",
       "\n",
       "[91 rows x 3 columns]"
      ]
     },
     "execution_count": 13,
     "metadata": {},
     "output_type": "execute_result"
    }
   ],
   "source": [
    "# combine\n",
    "cityWhole = pd.concat([df1,df2,df3],ignore_index=True)\n",
    "cityWhole"
   ]
  },
  {
   "cell_type": "code",
   "execution_count": 14,
   "metadata": {},
   "outputs": [
    {
     "name": "stdout",
     "output_type": "stream",
     "text": [
      "91\n"
     ]
    },
    {
     "data": {
      "text/plain": [
       "RangeIndex(start=0, stop=91, step=1)"
      ]
     },
     "execution_count": 14,
     "metadata": {},
     "output_type": "execute_result"
    }
   ],
   "source": [
    "total_days = len(cityWhole)\n",
    "print(total_days)\n",
    "cityWhole.index"
   ]
  },
  {
   "cell_type": "code",
   "execution_count": 15,
   "metadata": {},
   "outputs": [],
   "source": [
    "# create two list of possible rowing-window values and band-width values, put them into list to feed into itertools functions\n",
    "rw = list(np.arange(rw_start,rw_end,rw_step))\n",
    "bw = list(np.arange(bw_start,bw_end,bw_step))\n",
    "list1 = [rw,bw]"
   ]
  },
  {
   "cell_type": "code",
   "execution_count": 16,
   "metadata": {},
   "outputs": [],
   "source": [
    "# generate a list of tuples that contains (rowing-window-value,bandwidth-value) pairs\n",
    "prod = itertools.product(*list1)\n",
    "TupList = []\n",
    "for i in prod:\n",
    "    TupList.append(i)"
   ]
  },
  {
   "cell_type": "code",
   "execution_count": 17,
   "metadata": {},
   "outputs": [],
   "source": [
    "# create 2 new lists to store all values of std and all values of lag-1AC\n",
    "storage_std = np.array([])\n",
    "storage_lag = np.array([])"
   ]
  },
  {
   "cell_type": "code",
   "execution_count": 18,
   "metadata": {},
   "outputs": [],
   "source": [
    "# for each (rowing-window,bandwidth) pair, compute the ews dataframe, store the corresponding kendall tau value of std into storage_std, and store the corresponding kendall tau value of lag into storage_lag\n",
    "for i in range(len(TupList)):\n",
    "    ews_dic = core.ews_compute(cityWhole[\"Essential\"], roll_window = TupList[i][0],smooth ='Gaussian',band_width= TupList[i][1],span = span,lag_times = [1], ews = ews,upto = 'Full')\n",
    "    if i != 0: # exclude the first item since they are NoneType objects and this will make the entire array to be type \"object\" if include them\n",
    "        storage_std = np.append(storage_std,ews_dic['Kendall tau'][\"Standard deviation\"][0]) # pandas series with 1 element, so index 0\n",
    "        storage_lag = np.append(storage_lag, ews_dic['Kendall tau'][\"Lag-1 AC\"][0]) # pandas series with 1 element, so index 0"
   ]
  },
  {
   "cell_type": "code",
   "execution_count": 19,
   "metadata": {},
   "outputs": [
    {
     "name": "stdout",
     "output_type": "stream",
     "text": [
      "0.7695035460992908\n",
      "0.2624113475177305\n"
     ]
    }
   ],
   "source": [
    "# print out the max kendall tau for std and lagAC for comparison\n",
    "max_std = np.amax(storage_std)\n",
    "max_lag = np.amax(storage_lag)\n",
    "print(max_std)\n",
    "print(max_lag)"
   ]
  },
  {
   "cell_type": "code",
   "execution_count": 20,
   "metadata": {},
   "outputs": [
    {
     "name": "stdout",
     "output_type": "stream",
     "text": [
      "1140\n",
      "1139\n",
      "1139\n"
     ]
    }
   ],
   "source": [
    "print(len(TupList))\n",
    "print(len(storage_std))\n",
    "print(len(storage_lag))"
   ]
  },
  {
   "cell_type": "markdown",
   "metadata": {},
   "source": [
    "##### Add one when locating the tuple in TupList since the first item is \"None Type\" in tupList and we did not store that in storage_std and storage_lag"
   ]
  },
  {
   "cell_type": "code",
   "execution_count": 21,
   "metadata": {},
   "outputs": [
    {
     "name": "stdout",
     "output_type": "stream",
     "text": [
      "*** max std located in pair ***\n",
      "index at : [1104]in TupList\n",
      "tuple (rowing-windows,bandwidth): (0.49000000000000027, 19)\n",
      "largest std kendall tau: 0.7695035460992908\n"
     ]
    }
   ],
   "source": [
    "# find the location/index of maximum std in the storage_std, and use the index to find the corresponding rowing-window and bandwidth\n",
    "print(\"*** max std located in pair ***\")\n",
    "max_std_index = np.where(storage_std == max_std)\n",
    "print(\"index at : \" + str(max_std_index[0]+1) + \"in TupList\")\n",
    "# store the tuple for comparison\n",
    "target_pair_1 = TupList[max_std_index[0][0]+1]\n",
    "print(\"tuple (rowing-windows,bandwidth): \" + str(target_pair_1))\n",
    "print(\"largest std kendall tau: \" + str(max_std))"
   ]
  },
  {
   "cell_type": "code",
   "execution_count": 22,
   "metadata": {},
   "outputs": [
    {
     "name": "stdout",
     "output_type": "stream",
     "text": [
      "*** max lag located in pair ***\n",
      "index at : [1105]in TupList\n",
      "tuple (rowing-windows,bandwidth): (0.49000000000000027, 21)\n",
      "largest lag kendall tau: 0.2624113475177305\n"
     ]
    }
   ],
   "source": [
    "# some mechanism to find the index of maximum lagAC and the corresponding tuple\n",
    "print(\"*** max lag located in pair ***\")\n",
    "max_lag_index = np.where(storage_lag == max_lag)\n",
    "print(\"index at : \" + str(max_lag_index[0]+1) + \"in TupList\")\n",
    "# store the tuple for comparison\n",
    "target_pair_2 = TupList[max_lag_index[0][0]+1]\n",
    "print(\"tuple (rowing-windows,bandwidth): \" + str(target_pair_2))\n",
    "print(\"largest lag kendall tau: \" + str(max_lag))"
   ]
  },
  {
   "cell_type": "code",
   "execution_count": 23,
   "metadata": {},
   "outputs": [
    {
     "name": "stdout",
     "output_type": "stream",
     "text": [
      "std larger, select (0.49000000000000027, 19)\n"
     ]
    }
   ],
   "source": [
    "# create an empty tuple, the tuple that contains larger Kendall Tau value will be selected\n",
    "# select either AC max tuple or Standard Deviation max tuple automatically\n",
    "selected_pair = ()\n",
    "if (max_lag > max_std):\n",
    "    selected_pair = target_pair_2\n",
    "    print(\"lagAC larger, select \" + str(target_pair_2))\n",
    "elif(max_lag < max_std):\n",
    "    selected_pair = target_pair_1\n",
    "    print(\"std larger, select \" + str(target_pair_1))\n",
    "else:\n",
    "    print(\"rare case!\")\n",
    "    selected_pair = target_pair_2"
   ]
  },
  {
   "cell_type": "code",
   "execution_count": 24,
   "metadata": {},
   "outputs": [
    {
     "name": "stdout",
     "output_type": "stream",
     "text": [
      "setRW : 0.49000000000000027\n",
      "setBW : 19\n"
     ]
    }
   ],
   "source": [
    "# double check, print out\n",
    "setRW = selected_pair[0]\n",
    "setBW = selected_pair[1]\n",
    "print(\"setRW : \" + str(setRW))\n",
    "print(\"setBW : \" + str(setBW))\n",
    "\n",
    "ews_dic = core.ews_compute(cityWhole[\"Essential\"], \n",
    "                          roll_window = setRW,\n",
    "                           smooth ='Gaussian',\n",
    "                           band_width= setBW,\n",
    "                          span = span,\n",
    "                          lag_times = [1], \n",
    "                          ews = ews,\n",
    "                          upto = 'Full')"
   ]
  },
  {
   "cell_type": "code",
   "execution_count": 25,
   "metadata": {},
   "outputs": [],
   "source": [
    "# dfs\n",
    "df_ews = ews_dic['EWS metrics']\n",
    "df_ktau = ews_dic['Kendall tau']"
   ]
  },
  {
   "cell_type": "code",
   "execution_count": 26,
   "metadata": {},
   "outputs": [],
   "source": [
    "# different cities needs adjustment of the location of annotation since total number varies\n",
    "# set to mean, so location set automatically\n",
    "\n",
    "# location of annotation for the 1st graph\n",
    "annotation_location_1 = np.mean(df_ews[[\"State variable\"]])\n",
    "annotation_location_2 = np.mean(df_ews[[\"Residuals\"]])\n",
    "# location of annotations for the 2nd graph\n",
    "annotation_location_3 = np.mean(df_ews[\"Standard deviation\"])\n",
    "# location of annotations for the 3rd graph\n",
    "annotation_location_4 = np.mean(df_ews[\"Lag-1 AC\"])"
   ]
  },
  {
   "cell_type": "code",
   "execution_count": 33,
   "metadata": {},
   "outputs": [],
   "source": [
    "# 2 parameter: you may want to change these two\n",
    "LegendTF = False\n",
    "generateNow = False\n",
    "\n",
    "# set the early warning (gray)band using the variables below \n",
    "\n",
    "# Action Required: the start and the end of band in first graph\n",
    "bar_start_1 = 53 # need modification\n",
    "bar_end_1 = 55 # need modification\n",
    "\n",
    "\n",
    "# Action Required: the start and the end of band in 2nd graph\n",
    "bar_start_2 = 53 # need modification\n",
    "bar_end_2 = 55 # need modification\n",
    "\n",
    "\n",
    "# Action Required: the start and the end of band in 3rd graph\n",
    "bar_start_3 = 68 # need modification\n",
    "bar_end_3 = 70 # need modification"
   ]
  },
  {
   "cell_type": "code",
   "execution_count": 34,
   "metadata": {},
   "outputs": [
    {
     "data": {
      "image/png": "[encoded data removed]",
      "text/plain": [
       "<Figure size 1080x720 with 3 Axes>"
      ]
     },
     "metadata": {
      "needs_background": "light"
     },
     "output_type": "display_data"
    }
   ],
   "source": [
    "# the dates and string of first case, first death , shelter in place order are set at the beginning in the notebook\n",
    "# parameter needs to be set are in the previous cell\n",
    "\n",
    "\n",
    "# constant, you don't need to change them, but if you want to you can change ALPHA OR DIST \n",
    "ALPHA = 0.3\n",
    "DIST = 5\n",
    "ZERO = 0\n",
    "NROWS = 3\n",
    "NCOLS = 1\n",
    "\n",
    "# No action require below\n",
    "fig1, axes = plt.subplots(nrows = NROWS, ncols = NCOLS, figsize=(15,10))\n",
    "df_ews[['State variable','Smoothing', 'Residuals']].plot(ax=axes[0],\n",
    "          title = (\"Essential Early warning signals for city \" + cityname) , xlim = (-DIST,total_days + DIST),legend = LegendTF) # frame auto set\n",
    "axes[0].axvline(x = case_num, color='yellow')\n",
    "axes[0].axvline(x = death_num, color='yellow')\n",
    "axes[0].axvline(x = shelter_num, color='yellow')\n",
    "axes[0].annotate('First Case' +'\\n'+ first_case, xy=((case_num - DIST), annotation_location_2)) # location auto set\n",
    "axes[0].annotate('First Death'+'\\n'+ first_death, xy=((death_num - DIST), annotation_location_2)) # location auto set\n",
    "axes[0].annotate('Shelter in Place'+'\\n'+ shelter, xy=((shelter_num + DIST), annotation_location_1)) # location auto set\n",
    "axes[0].axvspan(bar_start_1, bar_end_1, alpha=ALPHA, color='gray')\n",
    "\n",
    "\n",
    "df_ews['Standard deviation'].plot(ax=axes[1],legend=True, xlim = (-DIST,total_days+DIST),color=\"darkblue\") # frame auto set\n",
    "axes[1].axvline(x = case_num, color='purple')\n",
    "axes[1].axvline(x = death_num, color='purple')\n",
    "axes[1].axvline(x = shelter_num, color='purple')\n",
    "axes[1].annotate(\"Kendall tau:\" + str(round(df_ktau[\"Standard deviation\"][0],4)), xy=(ZERO, annotation_location_3)) # location auto set\n",
    "axes[1].annotate('First Case' +'\\n'+ first_case, xy=((case_num - DIST), annotation_location_3)) # location auto set\n",
    "axes[1].annotate('First Death'+'\\n'+ first_death, xy=((death_num - DIST), annotation_location_3)) # location auto set\n",
    "axes[1].annotate('Shelter in Place'+'\\n'+ shelter, xy=((shelter_num + DIST), annotation_location_3)) # location auto set\n",
    "axes[1].axvspan(bar_start_2, bar_end_2, alpha = ALPHA, color='gray')\n",
    "\n",
    "\n",
    "df_ews[['Lag-1 AC']].plot(ax=axes[2],legend=True, xlim = (-DIST,total_days+DIST)) # frame auto set\n",
    "axes[2].axvline(x = case_num, color='purple')\n",
    "axes[2].axvline(x = death_num, color='purple')\n",
    "axes[2].axvline(x = shelter_num, color='purple')\n",
    "axes[2].annotate(\"Kendall tau: \" + str(round(df_ktau[\"Lag-1 AC\"][0],4)),xy=(ZERO, annotation_location_4)) # location auto set\n",
    "\n",
    "axes[2].annotate('First Case' +'\\n'+ first_case, xy=((case_num - DIST), annotation_location_4)) # location auto set\n",
    "axes[2].annotate('First Death'+'\\n'+ first_death, xy=((death_num - DIST), annotation_location_4)) # location auto set\n",
    "axes[2].annotate('Shelter in Place'+'\\n'+ shelter, xy=((shelter_num + DIST), annotation_location_4)) # location auto set\n",
    "axes[2].axvspan(bar_start_3, bar_end_3, alpha = ALPHA, color='gray') \n",
    "\n",
    "foo_fig = plt.gcf()\n",
    "\n",
    "# set \"generateNow\" in previous cell\n",
    "if (generateNow):\n",
    "    os.chdir(path_written_to)\n",
    "    foo_fig.savefig((cityname + \"-Essential.png\"))"
   ]
  },
  {
   "cell_type": "code",
   "execution_count": 35,
   "metadata": {},
   "outputs": [
    {
     "data": {
      "text/html": [
       "<div>\n",
       "<style scoped>\n",
       "    .dataframe tbody tr th:only-of-type {\n",
       "        vertical-align: middle;\n",
       "    }\n",
       "\n",
       "    .dataframe tbody tr th {\n",
       "        vertical-align: top;\n",
       "    }\n",
       "\n",
       "    .dataframe thead th {\n",
       "        text-align: right;\n",
       "    }\n",
       "</style>\n",
       "<table border=\"1\" class=\"dataframe\">\n",
       "  <thead>\n",
       "    <tr style=\"text-align: right;\">\n",
       "      <th></th>\n",
       "      <th>Standard deviation</th>\n",
       "      <th>Lag-1 AC</th>\n",
       "    </tr>\n",
       "  </thead>\n",
       "  <tbody>\n",
       "    <tr>\n",
       "      <th>0</th>\n",
       "      <td>0.769504</td>\n",
       "      <td>0.258865</td>\n",
       "    </tr>\n",
       "  </tbody>\n",
       "</table>\n",
       "</div>"
      ],
      "text/plain": [
       "   Standard deviation  Lag-1 AC\n",
       "0            0.769504  0.258865"
      ]
     },
     "execution_count": 35,
     "metadata": {},
     "output_type": "execute_result"
    }
   ],
   "source": [
    "df_ktau"
   ]
  },
  {
   "cell_type": "code",
   "execution_count": 36,
   "metadata": {},
   "outputs": [
    {
     "name": "stdout",
     "output_type": "stream",
     "text": [
      "should print out two empty brakets below\n",
      "[]\n",
      "[]\n"
     ]
    }
   ],
   "source": [
    "# reset storage\n",
    "storage_std = np.array([])\n",
    "storage_lag = np.array([])\n",
    "print(\"should print out two empty brakets below\")\n",
    "print(storage_std)\n",
    "print(storage_lag)\n",
    "\n",
    "for i in range(len(TupList)):\n",
    "    ews_dic = core.ews_compute(cityWhole[\"NonEssential\"], roll_window = TupList[i][0],smooth ='Gaussian',band_width= TupList[i][1],span = span,lag_times = [1], ews = ews,upto = 'Full')\n",
    "    if i != 0:\n",
    "        storage_std = np.append( storage_std,ews_dic['Kendall tau'][\"Standard deviation\"][0])\n",
    "        storage_lag = np.append(storage_lag, ews_dic['Kendall tau'][\"Lag-1 AC\"][0])"
   ]
  },
  {
   "cell_type": "markdown",
   "metadata": {},
   "source": [
    "### I know they can be overriden, but just in case we reset all variables"
   ]
  },
  {
   "cell_type": "code",
   "execution_count": 37,
   "metadata": {},
   "outputs": [
    {
     "name": "stdout",
     "output_type": "stream",
     "text": [
      "0.8723404255319149\n",
      "0.41489361702127664\n"
     ]
    }
   ],
   "source": [
    "max_std = -100000000\n",
    "max_lag = -100000000\n",
    "max_std = np.amax(storage_std)\n",
    "max_lag = np.amax(storage_lag)\n",
    "print(max_std)\n",
    "print(max_lag)"
   ]
  },
  {
   "cell_type": "code",
   "execution_count": 38,
   "metadata": {},
   "outputs": [
    {
     "name": "stdout",
     "output_type": "stream",
     "text": [
      "1140\n",
      "1139\n",
      "1139\n"
     ]
    }
   ],
   "source": [
    "print(len(TupList))\n",
    "print(len(storage_std))\n",
    "print(len(storage_lag))"
   ]
  },
  {
   "cell_type": "markdown",
   "metadata": {},
   "source": [
    "PLUS 1 SINCE LENGTH IS DIFFERENT"
   ]
  },
  {
   "cell_type": "code",
   "execution_count": 39,
   "metadata": {},
   "outputs": [
    {
     "name": "stdout",
     "output_type": "stream",
     "text": [
      "*** max std located in pair ***\n",
      "index at : [1105]\n",
      "tuple (rowing-windows,bandwidth): (0.49000000000000027, 21)\n",
      "largest std kendall tau: 0.8723404255319149\n"
     ]
    }
   ],
   "source": [
    "# reset\n",
    "max_std_index = -10000000\n",
    "target_pair_1 = (-10000000,-100000000)\n",
    "# compute\n",
    "print(\"*** max std located in pair ***\")\n",
    "max_std_index = np.where(storage_std == max_std) # find the largest element index\n",
    "print(\"index at : \" + str(max_std_index[0] + 1))\n",
    "target_pair_1 = TupList[max_std_index[0][0] + 1]\n",
    "print(\"tuple (rowing-windows,bandwidth): \" + str(target_pair_1))\n",
    "print(\"largest std kendall tau: \" + str(max_std))"
   ]
  },
  {
   "cell_type": "code",
   "execution_count": 40,
   "metadata": {},
   "outputs": [
    {
     "name": "stdout",
     "output_type": "stream",
     "text": [
      "*** max lag located in pair ***\n",
      "index at : [1102]\n",
      "tuple (rowing-windows,bandwidth): (0.49000000000000027, 15)\n",
      "largest lag kendall tau: 0.41489361702127664\n"
     ]
    }
   ],
   "source": [
    "# reset\n",
    "max_lag_index = -1000000000\n",
    "target_pair_2 = (-1000000000,-1000000000)\n",
    "# compute\n",
    "print(\"*** max lag located in pair ***\")\n",
    "max_lag_index = np.where(storage_lag == max_lag)\n",
    "print(\"index at : \" + str(max_lag_index[0] + 1)) # set to the index zero when multiple results return because we try to have smaller rowing window\n",
    "target_pair_2 = TupList[max_lag_index[0][0] + 1]\n",
    "print(\"tuple (rowing-windows,bandwidth): \" + str(target_pair_2))\n",
    "print(\"largest lag kendall tau: \" + str(max_lag))"
   ]
  },
  {
   "cell_type": "code",
   "execution_count": 41,
   "metadata": {},
   "outputs": [
    {
     "name": "stdout",
     "output_type": "stream",
     "text": [
      "std larger, select (0.49000000000000027, 21)\n"
     ]
    }
   ],
   "source": [
    "selected_pair = ()\n",
    "if (max_lag > max_std):\n",
    "    selected_pair = target_pair_2\n",
    "    print(\"lagAC larger, select \" + str(target_pair_2))\n",
    "elif(max_lag < max_std):\n",
    "    selected_pair = target_pair_1\n",
    "    print(\"std larger, select \" + str(target_pair_1))\n",
    "else:\n",
    "    print(\"rare case!\")\n",
    "    selected_pair = target_pair_2"
   ]
  },
  {
   "cell_type": "code",
   "execution_count": 42,
   "metadata": {},
   "outputs": [
    {
     "name": "stdout",
     "output_type": "stream",
     "text": [
      "setRW : 0.49\n",
      "setBW : 21\n"
     ]
    }
   ],
   "source": [
    "setRW = -10000000\n",
    "setBW = -10000000\n",
    "setRW = round(selected_pair[0],3)\n",
    "setBW = selected_pair[1]\n",
    "print(\"setRW : \" + str(setRW))\n",
    "print(\"setBW : \" + str(setBW))"
   ]
  },
  {
   "cell_type": "code",
   "execution_count": 43,
   "metadata": {},
   "outputs": [],
   "source": [
    "ews_dic = core.ews_compute(cityWhole[\"NonEssential\"], \n",
    "                          roll_window = setRW,\n",
    "                           smooth ='Gaussian',\n",
    "                           band_width=setBW,\n",
    "                          span = span,\n",
    "                          lag_times = [1], \n",
    "                          ews = ews,\n",
    "                          upto = 'Full')"
   ]
  },
  {
   "cell_type": "code",
   "execution_count": 44,
   "metadata": {},
   "outputs": [],
   "source": [
    " #The DataFrame of EWS\n",
    "df_ews = ews_dic['EWS metrics']\n",
    "\n",
    "# The DataFrame of ktau values\n",
    "df_ktau = ews_dic['Kendall tau']"
   ]
  },
  {
   "cell_type": "code",
   "execution_count": 45,
   "metadata": {},
   "outputs": [],
   "source": [
    "#  reset\n",
    "annotation_location_1 = -10000000\n",
    "annotation_location_2 = -10000000\n",
    "annotation_location_3 = -10000000\n",
    "annotation_location_4 = -10000000\n",
    "\n",
    "# location of annotations for 1st graph\n",
    "annotation_location_1 = np.mean(df_ews[[\"State variable\"]])\n",
    "annotation_location_2 = np.mean(df_ews[[\"Residuals\"]])\n",
    "\n",
    "# location of annotations for the 2nd graph\n",
    "annotation_location_3 = np.mean(df_ews[\"Standard deviation\"])\n",
    "# location of annotations for the 3rd graph\n",
    "annotation_location_4 = np.mean(df_ews[\"Lag-1 AC\"])"
   ]
  },
  {
   "cell_type": "code",
   "execution_count": 49,
   "metadata": {},
   "outputs": [],
   "source": [
    "# 2 parameter: you may want to change these two\n",
    "LegendTF = False\n",
    "generateNow = False\n",
    "\n",
    "# set the early warning (gray)band using the variables below \n",
    "\n",
    "# Action Required: the start and the end of band in first graph\n",
    "bar_start_1 = 53 # need modification\n",
    "bar_end_1 = 55 # need modification\n",
    "\n",
    "\n",
    "# Action Required: the start and the end of band in 2nd graph\n",
    "bar_start_2 = 53 # need modification\n",
    "bar_end_2 = 55 # need modification\n",
    "\n",
    "\n",
    "# Action Required: the start and the end of band in 3rd graph\n",
    "bar_start_3 = 73 # need modification\n",
    "bar_end_3 = 75 # need modification"
   ]
  },
  {
   "cell_type": "code",
   "execution_count": 50,
   "metadata": {},
   "outputs": [
    {
     "data": {
      "image/png": "[encoded data removed]",
      "text/plain": [
       "<Figure size 1080x720 with 3 Axes>"
      ]
     },
     "metadata": {
      "needs_background": "light"
     },
     "output_type": "display_data"
    }
   ],
   "source": [
    "# the dates and string of first case, first death , shelter in place order are set at the beginning in the notebook\n",
    "# parameter needs to be set are in the previous cell\n",
    "\n",
    "# constants , you don't need to change them\n",
    "ZERO = 0\n",
    "DIST = 5\n",
    "ALPHA = 0.7\n",
    "NROWS = 3\n",
    "NCOLS = 1\n",
    "\n",
    "# plots\n",
    "fig1, axes = plt.subplots(nrows = NROWS, ncols = NCOLS, figsize = (15,10))\n",
    "df_ews[['State variable','Smoothing', 'Residuals']].plot(ax = axes[0],\n",
    "          title = (\"NonEssential Early warning signals for city \" + cityname), xlim = (-DIST,(total_days + DIST)),legend = LegendTF) \n",
    "axes[0].axvline(x = case_num, color = 'yellow') # set at beginning\n",
    "axes[0].axvline(x = death_num, color = 'yellow') # set at beginning\n",
    "axes[0].axvline(x = shelter_num, color = 'yellow') # set at beginning\n",
    "axes[0].annotate('First Case' +'\\n'+ first_case, xy = (case_num - DIST, annotation_location_2)) # auto set\n",
    "axes[0].annotate('First Death'+'\\n'+ first_death, xy = (death_num - DIST, annotation_location_2)) # auto set\n",
    "axes[0].annotate('Shelter in Place'+'\\n'+ shelter, xy = (shelter_num + DIST, annotation_location_1)) # auto set\n",
    "axes[0].axvspan(bar_start_1, bar_end_1, alpha = ALPHA, color='lightblue')\n",
    "\n",
    "\n",
    "df_ews['Standard deviation'].plot(ax=axes[1],legend=True, xlim = (-DIST,(DIST + total_days)),color = \"darkblue\")\n",
    "axes[1].axvline(x = case_num, color = 'purple')\n",
    "axes[1].axvline(x = death_num, color = 'purple')\n",
    "axes[1].axvline(x = shelter_num, color = 'purple')\n",
    "axes[1].annotate(\"Kendall tau: \" + str(round(df_ktau[\"Standard deviation\"][0],4)), xy = (ZERO, annotation_location_3))\n",
    "axes[1].annotate('First Case' +'\\n'+ first_case, xy = (case_num - DIST, annotation_location_3)) # auto set\n",
    "axes[1].annotate('First Death'+'\\n'+ first_death, xy = (death_num - DIST, annotation_location_3)) # auto set\n",
    "axes[1].annotate('Shelter in Place'+'\\n'+ shelter, xy = (shelter_num + DIST, annotation_location_3)) # auto set\n",
    "# need to adjust grey band manually\n",
    "axes[1].axvspan(bar_start_2, bar_end_2, alpha = ALPHA, color = 'lightblue')\n",
    "\n",
    "df_ews[['Lag-1 AC']].plot(ax=axes[2],legend=True, xlim = (-DIST,(DIST + total_days))) # auto set frame\n",
    "axes[2].axvline(x = case_num, color = 'purple') # set at beginning\n",
    "axes[2].axvline(x = death_num, color = 'purple') # set at beginnning\n",
    "axes[2].axvline(x = shelter_num, color = 'purple') # set at beginning\n",
    "axes[2].annotate(\"Kendall tau:\" + str(round(df_ktau[\"Lag-1 AC\"][0],4)),xy = (ZERO, annotation_location_4)) # auto\n",
    "axes[2].annotate('First Case' +'\\n'+ first_case, xy = (case_num - DIST, annotation_location_4)) # auto set\n",
    "axes[2].annotate('First Death'+'\\n'+ first_death, xy = (death_num - DIST, annotation_location_4)) # auto set\n",
    "axes[2].annotate('Shelter in Place'+'\\n'+ shelter, xy = (shelter_num + DIST, annotation_location_4)) # auto set\n",
    "# set the grey band location manually\n",
    "axes[2].axvspan(bar_start_3, bar_end_3, alpha = ALPHA, color = 'lightblue') \n",
    "\n",
    "foo_fig = plt.gcf()  # 'get current figure'\n",
    "\n",
    "\n",
    "# set \"generateNow\" in previous cell\n",
    "if (generateNow):\n",
    "    os.chdir(path_written_to)\n",
    "    foo_fig.savefig((cityname + \"-NonEssential.png\"))"
   ]
  },
  {
   "cell_type": "code",
   "execution_count": 51,
   "metadata": {},
   "outputs": [
    {
     "data": {
      "text/html": [
       "<div>\n",
       "<style scoped>\n",
       "    .dataframe tbody tr th:only-of-type {\n",
       "        vertical-align: middle;\n",
       "    }\n",
       "\n",
       "    .dataframe tbody tr th {\n",
       "        vertical-align: top;\n",
       "    }\n",
       "\n",
       "    .dataframe thead th {\n",
       "        text-align: right;\n",
       "    }\n",
       "</style>\n",
       "<table border=\"1\" class=\"dataframe\">\n",
       "  <thead>\n",
       "    <tr style=\"text-align: right;\">\n",
       "      <th></th>\n",
       "      <th>Standard deviation</th>\n",
       "      <th>Lag-1 AC</th>\n",
       "    </tr>\n",
       "  </thead>\n",
       "  <tbody>\n",
       "    <tr>\n",
       "      <th>0</th>\n",
       "      <td>0.87234</td>\n",
       "      <td>0.368794</td>\n",
       "    </tr>\n",
       "  </tbody>\n",
       "</table>\n",
       "</div>"
      ],
      "text/plain": [
       "   Standard deviation  Lag-1 AC\n",
       "0             0.87234  0.368794"
      ]
     },
     "execution_count": 51,
     "metadata": {},
     "output_type": "execute_result"
    }
   ],
   "source": [
    "df_ktau"
   ]
  },
  {
   "cell_type": "code",
   "execution_count": null,
   "metadata": {},
   "outputs": [],
   "source": []
  }
 ],
 "metadata": {
  "kernelspec": {
   "display_name": "Python 3",
   "language": "python",
   "name": "python3"
  },
  "language_info": {
   "codemirror_mode": {
    "name": "ipython",
    "version": 3
   },
   "file_extension": ".py",
   "mimetype": "text/x-python",
   "name": "python",
   "nbconvert_exporter": "python",
   "pygments_lexer": "ipython3",
   "version": "3.6.10"
  }
 },
 "nbformat": 4,
 "nbformat_minor": 4
}
